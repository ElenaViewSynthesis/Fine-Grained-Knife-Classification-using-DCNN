{
  "nbformat": 4,
  "nbformat_minor": 0,
  "metadata": {
    "colab": {
      "provenance": [],
      "gpuType": "T4"
    },
    "kernelspec": {
      "name": "python3",
      "display_name": "Python 3"
    },
    "language_info": {
      "name": "python"
    },
    "accelerator": "GPU"
  },
  "cells": [
    {
      "cell_type": "code",
      "execution_count": 2,
      "metadata": {
        "colab": {
          "base_uri": "https://localhost:8080/"
        },
        "id": "eWsc_sy10qVO",
        "outputId": "5d418013-ac12-4808-ea16-d8a80c756ca3"
      },
      "outputs": [
        {
          "output_type": "stream",
          "name": "stdout",
          "text": [
            "Drive already mounted at /content/drive; to attempt to forcibly remount, call drive.mount(\"/content/drive\", force_remount=True).\n"
          ]
        }
      ],
      "source": [
        "#Google Drive Integration by mounting\n",
        "from google.colab import drive\n",
        "drive.mount(\"/content/drive\")\n",
        "\n",
        "#/content/drive/MyDrive/Knives/train.py\n",
        "\n",
        "#%cd '/content/drive/MyDrive/Knives'\n",
        "%matplotlib inline"
      ]
    },
    {
      "cell_type": "code",
      "source": [
        "#Install Required Packages\n",
        "!pip install -r \"/content/drive/MyDrive/Knives/requirements.txt\""
      ],
      "metadata": {
        "colab": {
          "base_uri": "https://localhost:8080/"
        },
        "id": "5klQkFry95wQ",
        "outputId": "7cca718a-6d96-481a-8a70-87f9d1a3ed4f"
      },
      "execution_count": 1,
      "outputs": [
        {
          "output_type": "stream",
          "name": "stdout",
          "text": [
            "Requirement already satisfied: numpy==1.21.5 in /usr/local/lib/python3.10/dist-packages (from -r /content/drive/MyDrive/Knives/requirements.txt (line 1)) (1.21.5)\n",
            "Requirement already satisfied: opencv_python_headless==4.7.0.72 in /usr/local/lib/python3.10/dist-packages (from -r /content/drive/MyDrive/Knives/requirements.txt (line 2)) (4.7.0.72)\n",
            "Requirement already satisfied: pandas==1.4.4 in /usr/local/lib/python3.10/dist-packages (from -r /content/drive/MyDrive/Knives/requirements.txt (line 3)) (1.4.4)\n",
            "Requirement already satisfied: Pillow==10.0.1 in /usr/local/lib/python3.10/dist-packages (from -r /content/drive/MyDrive/Knives/requirements.txt (line 4)) (10.0.1)\n",
            "Requirement already satisfied: scikit_learn==1.0.2 in /usr/local/lib/python3.10/dist-packages (from -r /content/drive/MyDrive/Knives/requirements.txt (line 5)) (1.0.2)\n",
            "Requirement already satisfied: timm==0.6.12 in /usr/local/lib/python3.10/dist-packages (from -r /content/drive/MyDrive/Knives/requirements.txt (line 6)) (0.6.12)\n",
            "Requirement already satisfied: torch==1.12.1 in /usr/local/lib/python3.10/dist-packages (from -r /content/drive/MyDrive/Knives/requirements.txt (line 7)) (1.12.1)\n",
            "Requirement already satisfied: torchvision==0.13.1 in /usr/local/lib/python3.10/dist-packages (from -r /content/drive/MyDrive/Knives/requirements.txt (line 8)) (0.13.1)\n",
            "Requirement already satisfied: python-dateutil>=2.8.1 in /usr/local/lib/python3.10/dist-packages (from pandas==1.4.4->-r /content/drive/MyDrive/Knives/requirements.txt (line 3)) (2.8.2)\n",
            "Requirement already satisfied: pytz>=2020.1 in /usr/local/lib/python3.10/dist-packages (from pandas==1.4.4->-r /content/drive/MyDrive/Knives/requirements.txt (line 3)) (2023.3.post1)\n",
            "Requirement already satisfied: scipy>=1.1.0 in /usr/local/lib/python3.10/dist-packages (from scikit_learn==1.0.2->-r /content/drive/MyDrive/Knives/requirements.txt (line 5)) (1.10.1)\n",
            "Requirement already satisfied: joblib>=0.11 in /usr/local/lib/python3.10/dist-packages (from scikit_learn==1.0.2->-r /content/drive/MyDrive/Knives/requirements.txt (line 5)) (1.3.2)\n",
            "Requirement already satisfied: threadpoolctl>=2.0.0 in /usr/local/lib/python3.10/dist-packages (from scikit_learn==1.0.2->-r /content/drive/MyDrive/Knives/requirements.txt (line 5)) (3.2.0)\n",
            "Requirement already satisfied: pyyaml in /usr/local/lib/python3.10/dist-packages (from timm==0.6.12->-r /content/drive/MyDrive/Knives/requirements.txt (line 6)) (6.0.1)\n",
            "Requirement already satisfied: huggingface-hub in /usr/local/lib/python3.10/dist-packages (from timm==0.6.12->-r /content/drive/MyDrive/Knives/requirements.txt (line 6)) (0.19.4)\n",
            "Requirement already satisfied: typing-extensions in /usr/local/lib/python3.10/dist-packages (from torch==1.12.1->-r /content/drive/MyDrive/Knives/requirements.txt (line 7)) (4.5.0)\n",
            "Requirement already satisfied: requests in /usr/local/lib/python3.10/dist-packages (from torchvision==0.13.1->-r /content/drive/MyDrive/Knives/requirements.txt (line 8)) (2.31.0)\n",
            "Requirement already satisfied: six>=1.5 in /usr/local/lib/python3.10/dist-packages (from python-dateutil>=2.8.1->pandas==1.4.4->-r /content/drive/MyDrive/Knives/requirements.txt (line 3)) (1.16.0)\n",
            "Requirement already satisfied: filelock in /usr/local/lib/python3.10/dist-packages (from huggingface-hub->timm==0.6.12->-r /content/drive/MyDrive/Knives/requirements.txt (line 6)) (3.13.1)\n",
            "Requirement already satisfied: fsspec>=2023.5.0 in /usr/local/lib/python3.10/dist-packages (from huggingface-hub->timm==0.6.12->-r /content/drive/MyDrive/Knives/requirements.txt (line 6)) (2023.6.0)\n",
            "Requirement already satisfied: tqdm>=4.42.1 in /usr/local/lib/python3.10/dist-packages (from huggingface-hub->timm==0.6.12->-r /content/drive/MyDrive/Knives/requirements.txt (line 6)) (4.66.1)\n",
            "Requirement already satisfied: packaging>=20.9 in /usr/local/lib/python3.10/dist-packages (from huggingface-hub->timm==0.6.12->-r /content/drive/MyDrive/Knives/requirements.txt (line 6)) (23.2)\n",
            "Requirement already satisfied: charset-normalizer<4,>=2 in /usr/local/lib/python3.10/dist-packages (from requests->torchvision==0.13.1->-r /content/drive/MyDrive/Knives/requirements.txt (line 8)) (3.3.2)\n",
            "Requirement already satisfied: idna<4,>=2.5 in /usr/local/lib/python3.10/dist-packages (from requests->torchvision==0.13.1->-r /content/drive/MyDrive/Knives/requirements.txt (line 8)) (3.4)\n",
            "Requirement already satisfied: urllib3<3,>=1.21.1 in /usr/local/lib/python3.10/dist-packages (from requests->torchvision==0.13.1->-r /content/drive/MyDrive/Knives/requirements.txt (line 8)) (2.0.7)\n",
            "Requirement already satisfied: certifi>=2017.4.17 in /usr/local/lib/python3.10/dist-packages (from requests->torchvision==0.13.1->-r /content/drive/MyDrive/Knives/requirements.txt (line 8)) (2023.7.22)\n"
          ]
        }
      ]
    },
    {
      "cell_type": "code",
      "source": [
        "!pip install grad-cam\n",
        "!pip install matplotlib"
      ],
      "metadata": {
        "id": "6kDqvJWXzC-O",
        "colab": {
          "base_uri": "https://localhost:8080/"
        },
        "outputId": "dd6d6d2d-80af-4f77-d4f0-08a167643bc0"
      },
      "execution_count": 2,
      "outputs": [
        {
          "output_type": "stream",
          "name": "stdout",
          "text": [
            "Collecting grad-cam\n",
            "  Downloading grad-cam-1.4.8.tar.gz (7.8 MB)\n",
            "\u001b[2K     \u001b[90m━━━━━━━━━━━━━━━━━━━━━━━━━━━━━━━━━━━━━━━━\u001b[0m \u001b[32m7.8/7.8 MB\u001b[0m \u001b[31m37.2 MB/s\u001b[0m eta \u001b[36m0:00:00\u001b[0m\n",
            "\u001b[?25h  Installing build dependencies ... \u001b[?25l\u001b[?25hdone\n",
            "  Getting requirements to build wheel ... \u001b[?25l\u001b[?25hdone\n",
            "  Preparing metadata (pyproject.toml) ... \u001b[?25l\u001b[?25hdone\n",
            "Requirement already satisfied: numpy in /usr/local/lib/python3.10/dist-packages (from grad-cam) (1.21.5)\n",
            "Requirement already satisfied: Pillow in /usr/local/lib/python3.10/dist-packages (from grad-cam) (10.0.1)\n",
            "Requirement already satisfied: torch>=1.7.1 in /usr/local/lib/python3.10/dist-packages (from grad-cam) (1.12.1)\n",
            "Requirement already satisfied: torchvision>=0.8.2 in /usr/local/lib/python3.10/dist-packages (from grad-cam) (0.13.1)\n",
            "Collecting ttach (from grad-cam)\n",
            "  Downloading ttach-0.0.3-py3-none-any.whl (9.8 kB)\n",
            "Requirement already satisfied: tqdm in /usr/local/lib/python3.10/dist-packages (from grad-cam) (4.66.1)\n",
            "Requirement already satisfied: opencv-python in /usr/local/lib/python3.10/dist-packages (from grad-cam) (4.8.0.76)\n",
            "Requirement already satisfied: matplotlib in /usr/local/lib/python3.10/dist-packages (from grad-cam) (3.7.1)\n",
            "Requirement already satisfied: scikit-learn in /usr/local/lib/python3.10/dist-packages (from grad-cam) (1.0.2)\n",
            "Requirement already satisfied: typing-extensions in /usr/local/lib/python3.10/dist-packages (from torch>=1.7.1->grad-cam) (4.5.0)\n",
            "Requirement already satisfied: requests in /usr/local/lib/python3.10/dist-packages (from torchvision>=0.8.2->grad-cam) (2.31.0)\n",
            "Requirement already satisfied: contourpy>=1.0.1 in /usr/local/lib/python3.10/dist-packages (from matplotlib->grad-cam) (1.2.0)\n",
            "Requirement already satisfied: cycler>=0.10 in /usr/local/lib/python3.10/dist-packages (from matplotlib->grad-cam) (0.12.1)\n",
            "Requirement already satisfied: fonttools>=4.22.0 in /usr/local/lib/python3.10/dist-packages (from matplotlib->grad-cam) (4.44.3)\n",
            "Requirement already satisfied: kiwisolver>=1.0.1 in /usr/local/lib/python3.10/dist-packages (from matplotlib->grad-cam) (1.4.5)\n",
            "Requirement already satisfied: packaging>=20.0 in /usr/local/lib/python3.10/dist-packages (from matplotlib->grad-cam) (23.2)\n",
            "Requirement already satisfied: pyparsing>=2.3.1 in /usr/local/lib/python3.10/dist-packages (from matplotlib->grad-cam) (3.1.1)\n",
            "Requirement already satisfied: python-dateutil>=2.7 in /usr/local/lib/python3.10/dist-packages (from matplotlib->grad-cam) (2.8.2)\n",
            "Requirement already satisfied: scipy>=1.1.0 in /usr/local/lib/python3.10/dist-packages (from scikit-learn->grad-cam) (1.10.1)\n",
            "Requirement already satisfied: joblib>=0.11 in /usr/local/lib/python3.10/dist-packages (from scikit-learn->grad-cam) (1.3.2)\n",
            "Requirement already satisfied: threadpoolctl>=2.0.0 in /usr/local/lib/python3.10/dist-packages (from scikit-learn->grad-cam) (3.2.0)\n",
            "Requirement already satisfied: six>=1.5 in /usr/local/lib/python3.10/dist-packages (from python-dateutil>=2.7->matplotlib->grad-cam) (1.16.0)\n",
            "Requirement already satisfied: charset-normalizer<4,>=2 in /usr/local/lib/python3.10/dist-packages (from requests->torchvision>=0.8.2->grad-cam) (3.3.2)\n",
            "Requirement already satisfied: idna<4,>=2.5 in /usr/local/lib/python3.10/dist-packages (from requests->torchvision>=0.8.2->grad-cam) (3.4)\n",
            "Requirement already satisfied: urllib3<3,>=1.21.1 in /usr/local/lib/python3.10/dist-packages (from requests->torchvision>=0.8.2->grad-cam) (2.0.7)\n",
            "Requirement already satisfied: certifi>=2017.4.17 in /usr/local/lib/python3.10/dist-packages (from requests->torchvision>=0.8.2->grad-cam) (2023.7.22)\n",
            "Building wheels for collected packages: grad-cam\n",
            "  Building wheel for grad-cam (pyproject.toml) ... \u001b[?25l\u001b[?25hdone\n",
            "  Created wheel for grad-cam: filename=grad_cam-1.4.8-py3-none-any.whl size=38243 sha256=3212428bc392c6c95018414ce57ac036f9a3039992aef6524312f22f0f3f0d42\n",
            "  Stored in directory: /root/.cache/pip/wheels/f8/04/36/94ff3c8a4215826a21946b34c01180817e606989fdf53f7cd6\n",
            "Successfully built grad-cam\n",
            "Installing collected packages: ttach, grad-cam\n",
            "Successfully installed grad-cam-1.4.8 ttach-0.0.3\n",
            "Requirement already satisfied: matplotlib in /usr/local/lib/python3.10/dist-packages (3.7.1)\n",
            "Requirement already satisfied: contourpy>=1.0.1 in /usr/local/lib/python3.10/dist-packages (from matplotlib) (1.2.0)\n",
            "Requirement already satisfied: cycler>=0.10 in /usr/local/lib/python3.10/dist-packages (from matplotlib) (0.12.1)\n",
            "Requirement already satisfied: fonttools>=4.22.0 in /usr/local/lib/python3.10/dist-packages (from matplotlib) (4.44.3)\n",
            "Requirement already satisfied: kiwisolver>=1.0.1 in /usr/local/lib/python3.10/dist-packages (from matplotlib) (1.4.5)\n",
            "Requirement already satisfied: numpy>=1.20 in /usr/local/lib/python3.10/dist-packages (from matplotlib) (1.21.5)\n",
            "Requirement already satisfied: packaging>=20.0 in /usr/local/lib/python3.10/dist-packages (from matplotlib) (23.2)\n",
            "Requirement already satisfied: pillow>=6.2.0 in /usr/local/lib/python3.10/dist-packages (from matplotlib) (10.0.1)\n",
            "Requirement already satisfied: pyparsing>=2.3.1 in /usr/local/lib/python3.10/dist-packages (from matplotlib) (3.1.1)\n",
            "Requirement already satisfied: python-dateutil>=2.7 in /usr/local/lib/python3.10/dist-packages (from matplotlib) (2.8.2)\n",
            "Requirement already satisfied: six>=1.5 in /usr/local/lib/python3.10/dist-packages (from python-dateutil>=2.7->matplotlib) (1.16.0)\n"
          ]
        }
      ]
    },
    {
      "cell_type": "code",
      "source": [
        "#Accessing Files in Colab\n",
        "!python3 \"/train.py\""
      ],
      "metadata": {
        "colab": {
          "base_uri": "https://localhost:8080/"
        },
        "id": "inXXBF7i34Ht",
        "outputId": "2d280f8d-dbf0-431b-f266-1d07e6fd8dda"
      },
      "execution_count": null,
      "outputs": [
        {
          "output_type": "stream",
          "name": "stdout",
          "text": [
            "\n",
            "----------------------------------------------- [START 2023-11-20 05:18:09] ---------------------------------------------------\n",
            "\n",
            "                           |----- Train -----|----- Valid----|---------|\n",
            "mode     iter     epoch    |       loss      |        mAP    | time    |\n",
            "-------------------------------------------------------------------------------------------\n",
            "Downloading: \"https://github.com/rwightman/pytorch-image-models/releases/download/v0.1-weights/tf_efficientnet_b0_aa-827b6e33.pth\" to /root/.cache/torch/hub/checkpoints/tf_efficientnet_b0_aa-827b6e33.pth\n",
            "train 601.0    0.0        |      4.092     |      0.000     |  0 hr 07 min\n",
            "val    21.0    0.0       |      4.092     |      0.331    |  0 hr 08 min\n",
            "train 601.0    1.0        |      1.519     |      0.331     |  0 hr 11 min\n",
            "val    21.0    1.0       |      1.519     |      0.559    |  0 hr 12 min\n",
            "train 601.0    2.0        |      0.489     |      0.559     |  0 hr 15 min\n",
            "val    21.0    2.0       |      0.489     |      0.638    |  0 hr 16 min\n",
            "train 601.0    3.0        |      0.196     |      0.638     |  0 hr 19 min\n",
            "val    21.0    3.0       |      0.196     |      0.635    |  0 hr 20 min\n",
            "train 601.0    4.0        |      0.100     |      0.635     |  0 hr 23 min\n",
            "val    21.0    4.0       |      0.100     |      0.647    |  0 hr 24 min\n",
            "train 601.0    5.0        |      0.061     |      0.647     |  0 hr 27 min\n",
            "val    21.0    5.0       |      0.061     |      0.650    |  0 hr 28 min\n",
            "train 601.0    6.0        |      0.041     |      0.650     |  0 hr 31 min\n",
            "val    21.0    6.0       |      0.041     |      0.667    |  0 hr 32 min\n",
            "train 601.0    7.0        |      0.029     |      0.667     |  0 hr 35 min\n",
            "val    21.0    7.0       |      0.029     |      0.663    |  0 hr 36 min\n",
            "train 601.0    8.0        |      0.023     |      0.663     |  0 hr 39 min\n",
            "val    21.0    8.0       |      0.023     |      0.683    |  0 hr 40 min\n",
            "train 601.0    9.0        |      0.019     |      0.683     |  0 hr 43 min\n",
            "val    21.0    9.0       |      0.019     |      0.684    |  0 hr 44 min\n",
            "train 601.0   10.0        |      0.013     |      0.684     |  0 hr 47 min\n",
            "val    21.0   10.0       |      0.013     |      0.674    |  0 hr 48 min\n",
            "train 601.0   11.0        |      0.011     |      0.674     |  0 hr 51 min\n",
            "val    21.0   11.0       |      0.011     |      0.672    |  0 hr 52 min\n",
            "train 601.0   12.0        |      0.009     |      0.672     |  0 hr 55 min\n",
            "val    21.0   12.0       |      0.009     |      0.675    |  0 hr 56 min\n",
            "train 601.0   13.0        |      0.008     |      0.675     |  0 hr 59 min\n",
            "val    21.0   13.0       |      0.008     |      0.678    |  1 hr 00 min\n",
            "train 601.0   14.0        |      0.008     |      0.678     |  1 hr 03 min\n",
            "val    21.0   14.0       |      0.008     |      0.679    |  1 hr 04 min\n",
            "train 601.0   15.0        |      0.007     |      0.679     |  1 hr 07 min\n",
            "val    21.0   15.0       |      0.007     |      0.678    |  1 hr 08 min\n",
            "train 601.0   16.0        |      0.007     |      0.678     |  1 hr 11 min\n",
            "val    21.0   16.0       |      0.007     |      0.680    |  1 hr 12 min\n",
            "train 601.0   17.0        |      0.005     |      0.680     |  1 hr 14 min\n",
            "val    21.0   17.0       |      0.005     |      0.671    |  1 hr 16 min\n",
            "train 601.0   18.0        |      0.006     |      0.671     |  1 hr 18 min\n",
            "val    21.0   18.0       |      0.006     |      0.700    |  1 hr 20 min\n",
            "train 601.0   19.0        |      0.006     |      0.700     |  1 hr 22 min\n",
            "val    21.0   19.0       |      0.006     |      0.694    |  1 hr 24 min\n",
            "val    21.0   19.0       |      0.006     |      0.694    |  1 hr 24 min"
          ]
        }
      ]
    },
    {
      "cell_type": "code",
      "source": [
        "!python3 \"/train.py\""
      ],
      "metadata": {
        "id": "APKkYyhEFPEs",
        "colab": {
          "base_uri": "https://localhost:8080/"
        },
        "outputId": "ab65ab0d-28d9-4674-f28c-b031680cd761"
      },
      "execution_count": null,
      "outputs": [
        {
          "output_type": "stream",
          "name": "stdout",
          "text": [
            "\n",
            "----------------------------------------------- [START 2023-11-24 04:53:21] ---------------------------------------------------\n",
            "\n",
            "                           |----- Train -----|----- Valid----|---------|\n",
            "mode     iter     epoch    |       loss      |        mAP    | time    |\n",
            "-------------------------------------------------------------------------------------------\n",
            "Downloading: \"https://github.com/rwightman/pytorch-image-models/releases/download/v0.1-weights/tf_efficientnet_b0_aa-827b6e33.pth\" to /root/.cache/torch/hub/checkpoints/tf_efficientnet_b0_aa-827b6e33.pth\n",
            "train 601.0    4.0        |      0.100     |      0.000     |  0 hr 06 min\n",
            "val    21.0    4.0       |      0.100     |      0.650    |  0 hr 07 min\n",
            "val    21.0    4.0       |      0.100     |      0.650    |  0 hr 07 min\n",
            "New best metric achieved: 0.6502373814582825\n",
            "train 601.0    5.0        |      0.057     |      0.650     |  0 hr 10 min\n",
            "val    21.0    5.0       |      0.057     |      0.655    |  0 hr 11 min\n",
            "train 601.0    6.0        |      0.037     |      0.655     |  0 hr 14 min\n",
            "val    21.0    6.0       |      0.037     |      0.675    |  0 hr 15 min\n",
            "train 601.0    7.0        |      0.028     |      0.675     |  0 hr 18 min\n",
            "val    21.0    7.0       |      0.028     |      0.658    |  0 hr 19 min\n",
            "train 601.0    8.0        |      0.021     |      0.658     |  0 hr 22 min\n",
            "val    21.0    8.0       |      0.021     |      0.672    |  0 hr 23 min\n",
            "train 601.0    9.0        |      0.015     |      0.672     |  0 hr 26 min\n",
            "val    21.0    9.0       |      0.015     |      0.676    |  0 hr 27 min\n",
            "train 601.0   10.0        |      0.011     |      0.676     |  0 hr 30 min\n",
            "val    21.0   10.0       |      0.011     |      0.690    |  0 hr 32 min\n",
            "train 601.0   11.0        |      0.009     |      0.690     |  0 hr 35 min\n",
            "val    21.0   11.0       |      0.009     |      0.676    |  0 hr 36 min\n",
            "train 601.0   12.0        |      0.007     |      0.676     |  0 hr 39 min\n",
            "val    21.0   12.0       |      0.007     |      0.687    |  0 hr 40 min\n",
            "train 601.0   13.0        |      0.006     |      0.687     |  0 hr 43 min\n",
            "val    21.0   13.0       |      0.006     |      0.685    |  0 hr 44 min\n",
            "train 601.0   14.0        |      0.004     |      0.685     |  0 hr 47 min\n",
            "val    21.0   14.0       |      0.004     |      0.695    |  0 hr 48 min\n",
            "train 601.0   15.0        |      0.004     |      0.695     |  0 hr 51 min\n",
            "val    21.0   15.0       |      0.004     |      0.693    |  0 hr 52 min\n",
            "train 601.0   16.0        |      0.004     |      0.693     |  0 hr 55 min\n",
            "val    21.0   16.0       |      0.004     |      0.715    |  0 hr 56 min\n",
            "train 601.0   17.0        |      0.003     |      0.715     |  0 hr 59 min\n",
            "val    21.0   17.0       |      0.003     |      0.680    |  1 hr 00 min\n",
            "train 601.0   18.0        |      0.003     |      0.680     |  1 hr 03 min\n",
            "val    21.0   18.0       |      0.003     |      0.699    |  1 hr 04 min\n",
            "train 601.0   19.0        |      0.003     |      0.699     |  1 hr 07 min\n",
            "val    21.0   19.0       |      0.003     |      0.694    |  1 hr 08 min\n",
            "val    21.0   19.0       |      0.003     |      0.694    |  1 hr 08 min"
          ]
        }
      ]
    },
    {
      "cell_type": "code",
      "source": [
        "!python3 \"train.py\""
      ],
      "metadata": {
        "colab": {
          "base_uri": "https://localhost:8080/"
        },
        "id": "E2qyWccn4hoZ",
        "outputId": "ebaf862b-42eb-4f00-8810-cfb62761e76f"
      },
      "execution_count": null,
      "outputs": [
        {
          "output_type": "stream",
          "name": "stdout",
          "text": [
            "\n",
            "----------------------------------------------- [START 2023-11-26 19:18:04] ---------------------------------------------------\n",
            "\n",
            "                           |----- Train -----|----- Valid----|---------|\n",
            "mode     iter     epoch    |       loss      |        mAP    | time    |\n",
            "-------------------------------------------------------------------------------------------\n",
            "train 601.0    0.0        |      4.130     |      0.000     |  0 hr 07 min\n",
            "val    24.0    0.0       |      4.130     |      0.609    |  0 hr 08 min\n",
            "val    24.0    0.0       |      4.130     |      0.609    |  0 hr 08 min\n",
            "New best metric achieved: 0.6088749766349792\n",
            "train 601.0    1.0        |      1.575     |      0.609     |  0 hr 11 min\n",
            "val    24.0    1.0       |      1.575     |      0.869    |  0 hr 12 min\n",
            "train 601.0    2.0        |      0.499     |      0.869     |  0 hr 15 min\n",
            "val    24.0    2.0       |      0.499     |      0.907    |  0 hr 15 min\n",
            "train 601.0    3.0        |      0.198     |      0.907     |  0 hr 18 min\n",
            "val    24.0    3.0       |      0.198     |      0.916    |  0 hr 19 min\n",
            "train 601.0    4.0        |      0.100     |      0.916     |  0 hr 21 min\n",
            "val    24.0    4.0       |      0.100     |      0.916    |  0 hr 22 min\n",
            "train 601.0    5.0        |      0.060     |      0.916     |  0 hr 25 min\n",
            "val    24.0    5.0       |      0.060     |      0.918    |  0 hr 25 min\n",
            "train 601.0    6.0        |      0.040     |      0.918     |  0 hr 28 min\n",
            "val    24.0    6.0       |      0.040     |      0.913    |  0 hr 29 min\n",
            "train 601.0    7.0        |      0.029     |      0.913     |  0 hr 32 min\n",
            "val    24.0    7.0       |      0.029     |      0.917    |  0 hr 32 min\n",
            "train 601.0    8.0        |      0.023     |      0.917     |  0 hr 35 min\n",
            "val    24.0    8.0       |      0.023     |      0.921    |  0 hr 35 min\n",
            "train 601.0    9.0        |      0.017     |      0.921     |  0 hr 38 min\n",
            "val    24.0    9.0       |      0.017     |      0.921    |  0 hr 39 min\n",
            "train 601.0   10.0        |      0.013     |      0.921     |  0 hr 42 min\n",
            "val    24.0   10.0       |      0.013     |      0.924    |  0 hr 42 min\n",
            "train 601.0   11.0        |      0.010     |      0.924     |  0 hr 45 min\n",
            "val    24.0   11.0       |      0.010     |      0.918    |  0 hr 46 min\n",
            "train 601.0   12.0        |      0.009     |      0.918     |  0 hr 48 min\n",
            "val    24.0   12.0       |      0.009     |      0.925    |  0 hr 49 min\n",
            "train 601.0   13.0        |      0.009     |      0.925     |  0 hr 52 min\n",
            "val    24.0   13.0       |      0.009     |      0.920    |  0 hr 52 min\n",
            "train 601.0   14.0        |      0.008     |      0.920     |  0 hr 55 min\n",
            "val    24.0   14.0       |      0.008     |      0.924    |  0 hr 56 min\n",
            "train 601.0   15.0        |      0.006     |      0.924     |  0 hr 59 min\n",
            "val    24.0   15.0       |      0.006     |      0.922    |  0 hr 59 min\n",
            "train 601.0   16.0        |      0.006     |      0.922     |  1 hr 02 min\n",
            "val    24.0   16.0       |      0.006     |      0.919    |  1 hr 02 min\n",
            "train 601.0   17.0        |      0.006     |      0.919     |  1 hr 05 min\n",
            "val    24.0   17.0       |      0.006     |      0.924    |  1 hr 06 min\n",
            "train 601.0   18.0        |      0.006     |      0.924     |  1 hr 09 min\n",
            "val    24.0   18.0       |      0.006     |      0.919    |  1 hr 09 min\n",
            "train 601.0   19.0        |      0.006     |      0.919     |  1 hr 12 min\n",
            "val    24.0   19.0       |      0.006     |      0.921    |  1 hr 13 min\n",
            "val    24.0   19.0       |      0.006     |      0.921    |  1 hr 13 min"
          ]
        }
      ]
    },
    {
      "cell_type": "code",
      "source": [
        "!pip install tensorboard"
      ],
      "metadata": {
        "colab": {
          "base_uri": "https://localhost:8080/"
        },
        "id": "M8tr-xrF9VNu",
        "outputId": "e036e8eb-92a0-4fb8-d823-e6b59b11048b"
      },
      "execution_count": 5,
      "outputs": [
        {
          "output_type": "stream",
          "name": "stdout",
          "text": [
            "Requirement already satisfied: tensorboard in /usr/local/lib/python3.10/dist-packages (2.14.1)\n",
            "Requirement already satisfied: absl-py>=0.4 in /usr/local/lib/python3.10/dist-packages (from tensorboard) (1.4.0)\n",
            "Requirement already satisfied: grpcio>=1.48.2 in /usr/local/lib/python3.10/dist-packages (from tensorboard) (1.59.2)\n",
            "Requirement already satisfied: google-auth<3,>=1.6.3 in /usr/local/lib/python3.10/dist-packages (from tensorboard) (2.17.3)\n",
            "Requirement already satisfied: google-auth-oauthlib<1.1,>=0.5 in /usr/local/lib/python3.10/dist-packages (from tensorboard) (1.0.0)\n",
            "Requirement already satisfied: markdown>=2.6.8 in /usr/local/lib/python3.10/dist-packages (from tensorboard) (3.5.1)\n",
            "Requirement already satisfied: numpy>=1.12.0 in /usr/local/lib/python3.10/dist-packages (from tensorboard) (1.21.5)\n",
            "Requirement already satisfied: protobuf>=3.19.6 in /usr/local/lib/python3.10/dist-packages (from tensorboard) (3.20.3)\n",
            "Requirement already satisfied: requests<3,>=2.21.0 in /usr/local/lib/python3.10/dist-packages (from tensorboard) (2.31.0)\n",
            "Requirement already satisfied: setuptools>=41.0.0 in /usr/local/lib/python3.10/dist-packages (from tensorboard) (67.7.2)\n",
            "Requirement already satisfied: six>1.9 in /usr/local/lib/python3.10/dist-packages (from tensorboard) (1.16.0)\n",
            "Requirement already satisfied: tensorboard-data-server<0.8.0,>=0.7.0 in /usr/local/lib/python3.10/dist-packages (from tensorboard) (0.7.2)\n",
            "Requirement already satisfied: werkzeug>=1.0.1 in /usr/local/lib/python3.10/dist-packages (from tensorboard) (3.0.1)\n",
            "Requirement already satisfied: cachetools<6.0,>=2.0.0 in /usr/local/lib/python3.10/dist-packages (from google-auth<3,>=1.6.3->tensorboard) (5.3.2)\n",
            "Requirement already satisfied: pyasn1-modules>=0.2.1 in /usr/local/lib/python3.10/dist-packages (from google-auth<3,>=1.6.3->tensorboard) (0.3.0)\n",
            "Requirement already satisfied: rsa<5,>=3.1.4 in /usr/local/lib/python3.10/dist-packages (from google-auth<3,>=1.6.3->tensorboard) (4.9)\n",
            "Requirement already satisfied: requests-oauthlib>=0.7.0 in /usr/local/lib/python3.10/dist-packages (from google-auth-oauthlib<1.1,>=0.5->tensorboard) (1.3.1)\n",
            "Requirement already satisfied: charset-normalizer<4,>=2 in /usr/local/lib/python3.10/dist-packages (from requests<3,>=2.21.0->tensorboard) (3.3.2)\n",
            "Requirement already satisfied: idna<4,>=2.5 in /usr/local/lib/python3.10/dist-packages (from requests<3,>=2.21.0->tensorboard) (3.4)\n",
            "Requirement already satisfied: urllib3<3,>=1.21.1 in /usr/local/lib/python3.10/dist-packages (from requests<3,>=2.21.0->tensorboard) (2.0.7)\n",
            "Requirement already satisfied: certifi>=2017.4.17 in /usr/local/lib/python3.10/dist-packages (from requests<3,>=2.21.0->tensorboard) (2023.7.22)\n",
            "Requirement already satisfied: MarkupSafe>=2.1.1 in /usr/local/lib/python3.10/dist-packages (from werkzeug>=1.0.1->tensorboard) (2.1.3)\n",
            "Requirement already satisfied: pyasn1<0.6.0,>=0.4.6 in /usr/local/lib/python3.10/dist-packages (from pyasn1-modules>=0.2.1->google-auth<3,>=1.6.3->tensorboard) (0.5.0)\n",
            "Requirement already satisfied: oauthlib>=3.0.0 in /usr/local/lib/python3.10/dist-packages (from requests-oauthlib>=0.7.0->google-auth-oauthlib<1.1,>=0.5->tensorboard) (3.2.2)\n"
          ]
        }
      ]
    },
    {
      "cell_type": "code",
      "source": [
        "!python3 \"/content/drive/MyDrive/Knives/train.py\"\n"
      ],
      "metadata": {
        "colab": {
          "base_uri": "https://localhost:8080/"
        },
        "id": "OUu4AGQlzF0O",
        "outputId": "932f5b65-11c9-4538-9578-c03df607acc3"
      },
      "execution_count": 5,
      "outputs": [
        {
          "output_type": "stream",
          "name": "stdout",
          "text": [
            "\n",
            "----------------------------------------------- [START 2023-11-29 23:26:04] ---------------------------------------------------\n",
            "\n",
            "                              |----- Train ------|----- Valid----|------ Valid----|-----------|\n",
            "mode      iter       epoch    |       loss       |       loss    |        mAP     |    time   |\n",
            "-----------------------------------------------------------------------------------------------\n",
            "train 601.0    1.0       |       4.159     |       0.000     |      0.000     |  0 hr 02 min\n",
            "val    24.0    1.0       |       4.159     |      2.798     |      0.634    |  0 hr 03 min\n",
            "train 601.0    2.0       |       1.577     |       2.798     |      0.634     |  0 hr 05 min\n",
            "val    24.0    2.0       |       1.577     |      1.203     |      0.859    |  0 hr 06 min\n",
            "train 601.0    3.0       |       0.510     |       1.203     |      0.859     |  0 hr 09 min\n",
            "val    24.0    3.0       |       0.510     |      0.668     |      0.902    |  0 hr 09 min\n",
            "train 601.0    4.0       |       0.204     |       0.668     |      0.902     |  0 hr 12 min\n",
            "val    24.0    4.0       |       0.204     |      0.525     |      0.913    |  0 hr 12 min\n",
            "train 601.0    5.0       |       0.099     |       0.525     |      0.913     |  0 hr 15 min\n",
            "val    24.0    5.0       |       0.099     |      0.450     |      0.924    |  0 hr 15 min\n",
            "train 601.0    6.0       |       0.061     |       0.450     |      0.924     |  0 hr 18 min\n",
            "val    24.0    6.0       |       0.061     |      0.446     |      0.920    |  0 hr 19 min\n",
            "train 601.0    7.0       |       0.039     |       0.446     |      0.920     |  0 hr 21 min\n",
            "val    24.0    7.0       |       0.039     |      0.423     |      0.925    |  0 hr 22 min\n",
            "train 601.0    8.0       |       0.027     |       0.423     |      0.925     |  0 hr 25 min\n",
            "val    24.0    8.0       |       0.027     |      0.406     |      0.926    |  0 hr 25 min\n",
            "train 601.0    9.0       |       0.022     |       0.406     |      0.926     |  0 hr 28 min\n",
            "val    24.0    9.0       |       0.022     |      0.413     |      0.924    |  0 hr 29 min\n",
            "train 601.0   10.0       |       0.016     |       0.413     |      0.924     |  0 hr 31 min\n",
            "val    24.0   10.0       |       0.016     |      0.431     |      0.920    |  0 hr 32 min\n",
            "train 601.0   11.0       |       0.012     |       0.431     |      0.920     |  0 hr 35 min\n",
            "val    24.0   11.0       |       0.012     |      0.417     |      0.920    |  0 hr 35 min\n",
            "train 601.0   12.0       |       0.011     |       0.417     |      0.920     |  0 hr 38 min\n",
            "val    24.0   12.0       |       0.011     |      0.439     |      0.917    |  0 hr 38 min\n",
            "train 601.0   13.0       |       0.009     |       0.439     |      0.917     |  0 hr 41 min\n",
            "val    24.0   13.0       |       0.009     |      0.429     |      0.914    |  0 hr 42 min\n",
            "train 601.0   14.0       |       0.008     |       0.429     |      0.914     |  0 hr 44 min\n",
            "val    24.0   14.0       |       0.008     |      0.420     |      0.923    |  0 hr 45 min\n",
            "train 601.0   15.0       |       0.008     |       0.420     |      0.923     |  0 hr 48 min\n",
            "val    24.0   15.0       |       0.008     |      0.425     |      0.918    |  0 hr 48 min\n",
            "train 601.0   16.0       |       0.008     |       0.425     |      0.918     |  0 hr 51 min\n",
            "val    24.0   16.0       |       0.008     |      0.422     |      0.918    |  0 hr 51 min\n",
            "train 601.0   17.0       |       0.006     |       0.422     |      0.918     |  0 hr 54 min\n",
            "val    24.0   17.0       |       0.006     |      0.419     |      0.920    |  0 hr 55 min\n",
            "train 601.0   18.0       |       0.006     |       0.419     |      0.920     |  0 hr 57 min\n",
            "val    24.0   18.0       |       0.006     |      0.437     |      0.917    |  0 hr 58 min\n",
            "train 601.0   19.0       |       0.006     |       0.437     |      0.917     |  1 hr 00 min\n",
            "val    24.0   19.0       |       0.006     |      0.416     |      0.924    |  1 hr 01 min\n",
            "train 601.0   20.0       |       0.005     |       0.416     |      0.924     |  1 hr 04 min\n",
            "val    24.0   20.0       |       0.005     |      0.415     |      0.921    |  1 hr 04 min\n",
            "val    24.0   20.0       |       0.005     |      0.415     |      0.921    |  1 hr 04 minTraceback (most recent call last):\n",
            "  File \"/content/drive/MyDrive/Knives/train.py\", line 325, in <module>\n",
            "    os.mkdir(f\"./FinalPlots/{model_variant_name}/{modification_num}\")\n",
            "FileNotFoundError: [Errno 2] No such file or directory: './FinalPlots/tf_efficientnet_b0/1'\n"
          ]
        }
      ]
    },
    {
      "cell_type": "code",
      "source": [
        "#tensorboard --logdir=runs\n"
      ],
      "metadata": {
        "id": "5hj_yaOe8-X9"
      },
      "execution_count": null,
      "outputs": []
    },
    {
      "cell_type": "code",
      "source": [
        "!python3 \"/content/drive/MyDrive/Knives/train.py\""
      ],
      "metadata": {
        "colab": {
          "base_uri": "https://localhost:8080/"
        },
        "id": "5N-8YhPIry_9",
        "outputId": "7ff731cf-4a50-4b48-f368-f751f7c8fc6d"
      },
      "execution_count": null,
      "outputs": [
        {
          "output_type": "stream",
          "name": "stdout",
          "text": [
            "\n",
            "----------------------------------------------- [START 2023-11-30 00:44:51] ---------------------------------------------------\n",
            "\n",
            "                              |----- Train ------|----- Valid----|------ Valid----|-----------|\n",
            "mode      iter       epoch    |       loss       |       loss    |        mAP     |    time   |\n",
            "-----------------------------------------------------------------------------------------------\n",
            "train 601.0    1.0       |       4.092     |       0.000     |      0.000     |  0 hr 02 min\n",
            "val    24.0    1.0       |       4.092     |      2.777      |      0.622     |  0 hr 03 min\n",
            "train 601.0    2.0       |       1.525     |       2.777     |      0.622     |  0 hr 06 min\n",
            "val    24.0    2.0       |       1.525     |      1.105      |      0.877     |  0 hr 06 min\n",
            "train 601.0    3.0       |       0.493     |       1.105     |      0.877     |  0 hr 09 min\n",
            "val    24.0    3.0       |       0.493     |      0.625      |      0.916     |  0 hr 09 min\n",
            "train 601.0    4.0       |       0.196     |       0.625     |      0.916     |  0 hr 12 min\n",
            "val    24.0    4.0       |       0.196     |      0.525      |      0.919     |  0 hr 13 min\n",
            "train 601.0    5.0       |       0.099     |       0.525     |      0.919     |  0 hr 15 min\n",
            "val    24.0    5.0       |       0.099     |      0.486      |      0.922     |  0 hr 16 min\n",
            "train 601.0    6.0       |       0.058     |       0.486     |      0.922     |  0 hr 19 min\n",
            "val    24.0    6.0       |       0.058     |      0.471      |      0.918     |  0 hr 19 min\n",
            "train 601.0    7.0       |       0.038     |       0.471     |      0.918     |  0 hr 22 min\n",
            "val    24.0    7.0       |       0.038     |      0.443      |      0.923     |  0 hr 22 min\n",
            "train 601.0    8.0       |       0.028     |       0.443     |      0.923     |  0 hr 25 min\n",
            "val    24.0    8.0       |       0.028     |      0.450      |      0.920     |  0 hr 26 min\n",
            "train 601.0    9.0       |       0.021     |       0.450     |      0.920     |  0 hr 28 min\n",
            "val    24.0    9.0       |       0.021     |      0.449      |      0.922     |  0 hr 29 min\n",
            "train 601.0   10.0       |       0.017     |       0.449     |      0.922     |  0 hr 32 min\n",
            "val    24.0   10.0       |       0.017     |      0.439      |      0.922     |  0 hr 32 min\n",
            "train 601.0   11.0       |       0.013     |       0.439     |      0.922     |  0 hr 35 min\n",
            "val    24.0   11.0       |       0.013     |      0.421      |      0.924     |  0 hr 35 min\n",
            "train 601.0   12.0       |       0.010     |       0.421     |      0.924     |  0 hr 38 min\n",
            "val    24.0   12.0       |       0.010     |      0.418      |      0.924     |  0 hr 39 min\n",
            "train 601.0   13.0       |       0.009     |       0.418     |      0.924     |  0 hr 41 min\n",
            "val    24.0   13.0       |       0.009     |      0.442      |      0.922     |  0 hr 42 min\n",
            "train 601.0   14.0       |       0.008     |       0.442     |      0.922     |  0 hr 45 min\n",
            "val    24.0   14.0       |       0.008     |      0.426      |      0.926     |  0 hr 45 min\n",
            "train 601.0   15.0       |       0.007     |       0.426     |      0.926     |  0 hr 48 min\n",
            "val    24.0   15.0       |       0.007     |      0.432      |      0.926     |  0 hr 48 min\n",
            "train 601.0   16.0       |       0.007     |       0.432     |      0.926     |  0 hr 51 min\n",
            "val    24.0   16.0       |       0.007     |      0.417      |      0.928     |  0 hr 52 min\n",
            "train  47.0   17.0       |       0.005     |       0.417     |      0.928     |  0 hr 52 min"
          ]
        }
      ]
    },
    {
      "cell_type": "code",
      "source": [
        "!python3 \"/content/drive/MyDrive/Knives/test.py\""
      ],
      "metadata": {
        "id": "AiJYcoVU5229"
      },
      "execution_count": null,
      "outputs": []
    }
  ]
}