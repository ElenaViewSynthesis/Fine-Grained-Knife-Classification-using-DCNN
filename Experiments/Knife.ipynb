{
  "nbformat": 4,
  "nbformat_minor": 0,
  "metadata": {
    "colab": {
      "provenance": []
    },
    "kernelspec": {
      "name": "python3",
      "display_name": "Python 3"
    },
    "language_info": {
      "name": "python"
    }
  },
  "cells": [
    {
      "cell_type": "code",
      "execution_count": null,
      "metadata": {
        "colab": {
          "base_uri": "https://localhost:8080/"
        },
        "id": "eWsc_sy10qVO",
        "outputId": "34259275-3dc8-46a0-88f2-80ea9d3c50e9"
      },
      "outputs": [
        {
          "output_type": "stream",
          "name": "stdout",
          "text": [
            "Drive already mounted at /content/drive; to attempt to forcibly remount, call drive.mount(\"/content/drive\", force_remount=True).\n"
          ]
        }
      ],
      "source": [
        "#Google Drive Integration by mounting\n",
        "from google.colab import drive\n",
        "drive.mount(\"/content/drive\")\n",
        "\n",
        "#/content/drive/MyDrive/Knives/train.py\n",
        "\n",
        "#%cd '/content/drive/MyDrive/Knives'\n",
        "%matplotlib inline"
      ]
    },
    {
      "cell_type": "code",
      "source": [
        "#Install Required Packages\n",
        "!pip install -r \"/content/drive/MyDrive/Knives/requirements.txt\""
      ],
      "metadata": {
        "id": "5klQkFry95wQ"
      },
      "execution_count": null,
      "outputs": []
    },
    {
      "cell_type": "code",
      "source": [
        "!pip install grad-cam\n",
        "!pip install matplotlib"
      ],
      "metadata": {
        "id": "6kDqvJWXzC-O"
      },
      "execution_count": null,
      "outputs": []
    },
    {
      "cell_type": "code",
      "source": [
        "!python3 \"train.py\""
      ],
      "metadata": {
        "colab": {
          "base_uri": "https://localhost:8080/"
        },
        "id": "E2qyWccn4hoZ",
        "outputId": "ebaf862b-42eb-4f00-8810-cfb62761e76f"
      },
      "execution_count": null,
      "outputs": [
        {
          "output_type": "stream",
          "name": "stdout",
          "text": [
            "\n",
            "----------------------------------------------- [START 2023-11-26 19:18:04] ---------------------------------------------------\n",
            "\n",
            "                           |----- Train -----|----- Valid----|---------|\n",
            "mode     iter     epoch    |       loss      |        mAP    | time    |\n",
            "-------------------------------------------------------------------------------------------\n",
            "train 601.0    0.0        |      4.130     |      0.000     |  0 hr 07 min\n",
            "val    24.0    0.0       |      4.130     |      0.609    |  0 hr 08 min\n",
            "val    24.0    0.0       |      4.130     |      0.609    |  0 hr 08 min\n",
            "New best metric achieved: 0.6088749766349792\n",
            "train 601.0    1.0        |      1.575     |      0.609     |  0 hr 11 min\n",
            "val    24.0    1.0       |      1.575     |      0.869    |  0 hr 12 min\n",
            "train 601.0    2.0        |      0.499     |      0.869     |  0 hr 15 min\n",
            "val    24.0    2.0       |      0.499     |      0.907    |  0 hr 15 min\n",
            "train 601.0    3.0        |      0.198     |      0.907     |  0 hr 18 min\n",
            "val    24.0    3.0       |      0.198     |      0.916    |  0 hr 19 min\n",
            "train 601.0    4.0        |      0.100     |      0.916     |  0 hr 21 min\n",
            "val    24.0    4.0       |      0.100     |      0.916    |  0 hr 22 min\n",
            "train 601.0    5.0        |      0.060     |      0.916     |  0 hr 25 min\n",
            "val    24.0    5.0       |      0.060     |      0.918    |  0 hr 25 min\n",
            "train 601.0    6.0        |      0.040     |      0.918     |  0 hr 28 min\n",
            "val    24.0    6.0       |      0.040     |      0.913    |  0 hr 29 min\n",
            "train 601.0    7.0        |      0.029     |      0.913     |  0 hr 32 min\n",
            "val    24.0    7.0       |      0.029     |      0.917    |  0 hr 32 min\n",
            "train 601.0    8.0        |      0.023     |      0.917     |  0 hr 35 min\n",
            "val    24.0    8.0       |      0.023     |      0.921    |  0 hr 35 min\n",
            "train 601.0    9.0        |      0.017     |      0.921     |  0 hr 38 min\n",
            "val    24.0    9.0       |      0.017     |      0.921    |  0 hr 39 min\n",
            "train 601.0   10.0        |      0.013     |      0.921     |  0 hr 42 min\n",
            "val    24.0   10.0       |      0.013     |      0.924    |  0 hr 42 min\n",
            "train 601.0   11.0        |      0.010     |      0.924     |  0 hr 45 min\n",
            "val    24.0   11.0       |      0.010     |      0.918    |  0 hr 46 min\n",
            "train 601.0   12.0        |      0.009     |      0.918     |  0 hr 48 min\n",
            "val    24.0   12.0       |      0.009     |      0.925    |  0 hr 49 min\n",
            "train 601.0   13.0        |      0.009     |      0.925     |  0 hr 52 min\n",
            "val    24.0   13.0       |      0.009     |      0.920    |  0 hr 52 min\n",
            "train 601.0   14.0        |      0.008     |      0.920     |  0 hr 55 min\n",
            "val    24.0   14.0       |      0.008     |      0.924    |  0 hr 56 min\n",
            "train 601.0   15.0        |      0.006     |      0.924     |  0 hr 59 min\n",
            "val    24.0   15.0       |      0.006     |      0.922    |  0 hr 59 min\n",
            "train 601.0   16.0        |      0.006     |      0.922     |  1 hr 02 min\n",
            "val    24.0   16.0       |      0.006     |      0.919    |  1 hr 02 min\n",
            "train 601.0   17.0        |      0.006     |      0.919     |  1 hr 05 min\n",
            "val    24.0   17.0       |      0.006     |      0.924    |  1 hr 06 min\n",
            "train 601.0   18.0        |      0.006     |      0.924     |  1 hr 09 min\n",
            "val    24.0   18.0       |      0.006     |      0.919    |  1 hr 09 min\n",
            "train 601.0   19.0        |      0.006     |      0.919     |  1 hr 12 min\n",
            "val    24.0   19.0       |      0.006     |      0.921    |  1 hr 13 min\n",
            "val    24.0   19.0       |      0.006     |      0.921    |  1 hr 13 min"
          ]
        }
      ]
    },
    {
      "cell_type": "code",
      "source": [
        "!pip install tensorboard"
      ],
      "metadata": {
        "colab": {
          "base_uri": "https://localhost:8080/"
        },
        "id": "M8tr-xrF9VNu",
        "outputId": "e036e8eb-92a0-4fb8-d823-e6b59b11048b"
      },
      "execution_count": null,
      "outputs": [
        {
          "output_type": "stream",
          "name": "stdout",
          "text": [
            "Requirement already satisfied: tensorboard in /usr/local/lib/python3.10/dist-packages (2.14.1)\n",
            "Requirement already satisfied: absl-py>=0.4 in /usr/local/lib/python3.10/dist-packages (from tensorboard) (1.4.0)\n",
            "Requirement already satisfied: grpcio>=1.48.2 in /usr/local/lib/python3.10/dist-packages (from tensorboard) (1.59.2)\n",
            "Requirement already satisfied: google-auth<3,>=1.6.3 in /usr/local/lib/python3.10/dist-packages (from tensorboard) (2.17.3)\n",
            "Requirement already satisfied: google-auth-oauthlib<1.1,>=0.5 in /usr/local/lib/python3.10/dist-packages (from tensorboard) (1.0.0)\n",
            "Requirement already satisfied: markdown>=2.6.8 in /usr/local/lib/python3.10/dist-packages (from tensorboard) (3.5.1)\n",
            "Requirement already satisfied: numpy>=1.12.0 in /usr/local/lib/python3.10/dist-packages (from tensorboard) (1.21.5)\n",
            "Requirement already satisfied: protobuf>=3.19.6 in /usr/local/lib/python3.10/dist-packages (from tensorboard) (3.20.3)\n",
            "Requirement already satisfied: requests<3,>=2.21.0 in /usr/local/lib/python3.10/dist-packages (from tensorboard) (2.31.0)\n",
            "Requirement already satisfied: setuptools>=41.0.0 in /usr/local/lib/python3.10/dist-packages (from tensorboard) (67.7.2)\n",
            "Requirement already satisfied: six>1.9 in /usr/local/lib/python3.10/dist-packages (from tensorboard) (1.16.0)\n",
            "Requirement already satisfied: tensorboard-data-server<0.8.0,>=0.7.0 in /usr/local/lib/python3.10/dist-packages (from tensorboard) (0.7.2)\n",
            "Requirement already satisfied: werkzeug>=1.0.1 in /usr/local/lib/python3.10/dist-packages (from tensorboard) (3.0.1)\n",
            "Requirement already satisfied: cachetools<6.0,>=2.0.0 in /usr/local/lib/python3.10/dist-packages (from google-auth<3,>=1.6.3->tensorboard) (5.3.2)\n",
            "Requirement already satisfied: pyasn1-modules>=0.2.1 in /usr/local/lib/python3.10/dist-packages (from google-auth<3,>=1.6.3->tensorboard) (0.3.0)\n",
            "Requirement already satisfied: rsa<5,>=3.1.4 in /usr/local/lib/python3.10/dist-packages (from google-auth<3,>=1.6.3->tensorboard) (4.9)\n",
            "Requirement already satisfied: requests-oauthlib>=0.7.0 in /usr/local/lib/python3.10/dist-packages (from google-auth-oauthlib<1.1,>=0.5->tensorboard) (1.3.1)\n",
            "Requirement already satisfied: charset-normalizer<4,>=2 in /usr/local/lib/python3.10/dist-packages (from requests<3,>=2.21.0->tensorboard) (3.3.2)\n",
            "Requirement already satisfied: idna<4,>=2.5 in /usr/local/lib/python3.10/dist-packages (from requests<3,>=2.21.0->tensorboard) (3.4)\n",
            "Requirement already satisfied: urllib3<3,>=1.21.1 in /usr/local/lib/python3.10/dist-packages (from requests<3,>=2.21.0->tensorboard) (2.0.7)\n",
            "Requirement already satisfied: certifi>=2017.4.17 in /usr/local/lib/python3.10/dist-packages (from requests<3,>=2.21.0->tensorboard) (2023.7.22)\n",
            "Requirement already satisfied: MarkupSafe>=2.1.1 in /usr/local/lib/python3.10/dist-packages (from werkzeug>=1.0.1->tensorboard) (2.1.3)\n",
            "Requirement already satisfied: pyasn1<0.6.0,>=0.4.6 in /usr/local/lib/python3.10/dist-packages (from pyasn1-modules>=0.2.1->google-auth<3,>=1.6.3->tensorboard) (0.5.0)\n",
            "Requirement already satisfied: oauthlib>=3.0.0 in /usr/local/lib/python3.10/dist-packages (from requests-oauthlib>=0.7.0->google-auth-oauthlib<1.1,>=0.5->tensorboard) (3.2.2)\n"
          ]
        }
      ]
    },
    {
      "cell_type": "code",
      "source": [
        "!python3 \"/content/drive/MyDrive/Knives/train.py\"\n"
      ],
      "metadata": {
        "colab": {
          "base_uri": "https://localhost:8080/"
        },
        "id": "OUu4AGQlzF0O",
        "outputId": "932f5b65-11c9-4538-9578-c03df607acc3"
      },
      "execution_count": null,
      "outputs": [
        {
          "output_type": "stream",
          "name": "stdout",
          "text": [
            "\n",
            "----------------------------------------------- [START 2023-11-29 23:26:04] ---------------------------------------------------\n",
            "\n",
            "                              |----- Train ------|----- Valid----|------ Valid----|-----------|\n",
            "mode      iter       epoch    |       loss       |       loss    |        mAP     |    time   |\n",
            "-----------------------------------------------------------------------------------------------\n",
            "train 601.0    1.0       |       4.159     |       0.000     |      0.000     |  0 hr 02 min\n",
            "val    24.0    1.0       |       4.159     |      2.798     |      0.634    |  0 hr 03 min\n",
            "train 601.0    2.0       |       1.577     |       2.798     |      0.634     |  0 hr 05 min\n",
            "val    24.0    2.0       |       1.577     |      1.203     |      0.859    |  0 hr 06 min\n",
            "train 601.0    3.0       |       0.510     |       1.203     |      0.859     |  0 hr 09 min\n",
            "val    24.0    3.0       |       0.510     |      0.668     |      0.902    |  0 hr 09 min\n",
            "train 601.0    4.0       |       0.204     |       0.668     |      0.902     |  0 hr 12 min\n",
            "val    24.0    4.0       |       0.204     |      0.525     |      0.913    |  0 hr 12 min\n",
            "train 601.0    5.0       |       0.099     |       0.525     |      0.913     |  0 hr 15 min\n",
            "val    24.0    5.0       |       0.099     |      0.450     |      0.924    |  0 hr 15 min\n",
            "train 601.0    6.0       |       0.061     |       0.450     |      0.924     |  0 hr 18 min\n",
            "val    24.0    6.0       |       0.061     |      0.446     |      0.920    |  0 hr 19 min\n",
            "train 601.0    7.0       |       0.039     |       0.446     |      0.920     |  0 hr 21 min\n",
            "val    24.0    7.0       |       0.039     |      0.423     |      0.925    |  0 hr 22 min\n",
            "train 601.0    8.0       |       0.027     |       0.423     |      0.925     |  0 hr 25 min\n",
            "val    24.0    8.0       |       0.027     |      0.406     |      0.926    |  0 hr 25 min\n",
            "train 601.0    9.0       |       0.022     |       0.406     |      0.926     |  0 hr 28 min\n",
            "val    24.0    9.0       |       0.022     |      0.413     |      0.924    |  0 hr 29 min\n",
            "train 601.0   10.0       |       0.016     |       0.413     |      0.924     |  0 hr 31 min\n",
            "val    24.0   10.0       |       0.016     |      0.431     |      0.920    |  0 hr 32 min\n",
            "train 601.0   11.0       |       0.012     |       0.431     |      0.920     |  0 hr 35 min\n",
            "val    24.0   11.0       |       0.012     |      0.417     |      0.920    |  0 hr 35 min\n",
            "train 601.0   12.0       |       0.011     |       0.417     |      0.920     |  0 hr 38 min\n",
            "val    24.0   12.0       |       0.011     |      0.439     |      0.917    |  0 hr 38 min\n",
            "train 601.0   13.0       |       0.009     |       0.439     |      0.917     |  0 hr 41 min\n",
            "val    24.0   13.0       |       0.009     |      0.429     |      0.914    |  0 hr 42 min\n",
            "train 601.0   14.0       |       0.008     |       0.429     |      0.914     |  0 hr 44 min\n",
            "val    24.0   14.0       |       0.008     |      0.420     |      0.923    |  0 hr 45 min\n",
            "train 601.0   15.0       |       0.008     |       0.420     |      0.923     |  0 hr 48 min\n",
            "val    24.0   15.0       |       0.008     |      0.425     |      0.918    |  0 hr 48 min\n",
            "train 601.0   16.0       |       0.008     |       0.425     |      0.918     |  0 hr 51 min\n",
            "val    24.0   16.0       |       0.008     |      0.422     |      0.918    |  0 hr 51 min\n",
            "train 601.0   17.0       |       0.006     |       0.422     |      0.918     |  0 hr 54 min\n",
            "val    24.0   17.0       |       0.006     |      0.419     |      0.920    |  0 hr 55 min\n",
            "train 601.0   18.0       |       0.006     |       0.419     |      0.920     |  0 hr 57 min\n",
            "val    24.0   18.0       |       0.006     |      0.437     |      0.917    |  0 hr 58 min\n",
            "train 601.0   19.0       |       0.006     |       0.437     |      0.917     |  1 hr 00 min\n",
            "val    24.0   19.0       |       0.006     |      0.416     |      0.924    |  1 hr 01 min\n",
            "train 601.0   20.0       |       0.005     |       0.416     |      0.924     |  1 hr 04 min\n",
            "val    24.0   20.0       |       0.005     |      0.415     |      0.921    |  1 hr 04 min\n",
            "val    24.0   20.0       |       0.005     |      0.415     |      0.921    |  1 hr 04 minTraceback (most recent call last):\n",
            "  File \"/content/drive/MyDrive/Knives/train.py\", line 325, in <module>\n",
            "    os.mkdir(f\"./FinalPlots/{model_variant_name}/{modification_num}\")\n",
            "FileNotFoundError: [Errno 2] No such file or directory: './FinalPlots/tf_efficientnet_b0/1'\n"
          ]
        }
      ]
    },
    {
      "cell_type": "code",
      "source": [
        "#tensorboard --logdir=runs\n"
      ],
      "metadata": {
        "id": "5hj_yaOe8-X9"
      },
      "execution_count": null,
      "outputs": []
    },
    {
      "cell_type": "code",
      "source": [
        "!python3 \"/content/drive/MyDrive/Knives/train.py\""
      ],
      "metadata": {
        "colab": {
          "base_uri": "https://localhost:8080/"
        },
        "id": "5N-8YhPIry_9",
        "outputId": "7ff731cf-4a50-4b48-f368-f751f7c8fc6d"
      },
      "execution_count": null,
      "outputs": [
        {
          "output_type": "stream",
          "name": "stdout",
          "text": [
            "\n",
            "----------------------------------------------- [START 2023-11-30 00:44:51] ---------------------------------------------------\n",
            "\n",
            "                              |----- Train ------|----- Valid----|------ Valid----|-----------|\n",
            "mode      iter       epoch    |       loss       |       loss    |        mAP     |    time   |\n",
            "-----------------------------------------------------------------------------------------------\n",
            "train 601.0    1.0       |       4.092     |       0.000     |      0.000     |  0 hr 02 min\n",
            "val    24.0    1.0       |       4.092     |      2.777      |      0.622     |  0 hr 03 min\n",
            "train 601.0    2.0       |       1.525     |       2.777     |      0.622     |  0 hr 06 min\n",
            "val    24.0    2.0       |       1.525     |      1.105      |      0.877     |  0 hr 06 min\n",
            "train 601.0    3.0       |       0.493     |       1.105     |      0.877     |  0 hr 09 min\n",
            "val    24.0    3.0       |       0.493     |      0.625      |      0.916     |  0 hr 09 min\n",
            "train 601.0    4.0       |       0.196     |       0.625     |      0.916     |  0 hr 12 min\n",
            "val    24.0    4.0       |       0.196     |      0.525      |      0.919     |  0 hr 13 min\n",
            "train 601.0    5.0       |       0.099     |       0.525     |      0.919     |  0 hr 15 min\n",
            "val    24.0    5.0       |       0.099     |      0.486      |      0.922     |  0 hr 16 min\n",
            "train 601.0    6.0       |       0.058     |       0.486     |      0.922     |  0 hr 19 min\n",
            "val    24.0    6.0       |       0.058     |      0.471      |      0.918     |  0 hr 19 min\n",
            "train 601.0    7.0       |       0.038     |       0.471     |      0.918     |  0 hr 22 min\n",
            "val    24.0    7.0       |       0.038     |      0.443      |      0.923     |  0 hr 22 min\n",
            "train 601.0    8.0       |       0.028     |       0.443     |      0.923     |  0 hr 25 min\n",
            "val    24.0    8.0       |       0.028     |      0.450      |      0.920     |  0 hr 26 min\n",
            "train 601.0    9.0       |       0.021     |       0.450     |      0.920     |  0 hr 28 min\n",
            "val    24.0    9.0       |       0.021     |      0.449      |      0.922     |  0 hr 29 min\n",
            "train 601.0   10.0       |       0.017     |       0.449     |      0.922     |  0 hr 32 min\n",
            "val    24.0   10.0       |       0.017     |      0.439      |      0.922     |  0 hr 32 min\n",
            "train 601.0   11.0       |       0.013     |       0.439     |      0.922     |  0 hr 35 min\n",
            "val    24.0   11.0       |       0.013     |      0.421      |      0.924     |  0 hr 35 min\n",
            "train 601.0   12.0       |       0.010     |       0.421     |      0.924     |  0 hr 38 min\n",
            "val    24.0   12.0       |       0.010     |      0.418      |      0.924     |  0 hr 39 min\n",
            "train 601.0   13.0       |       0.009     |       0.418     |      0.924     |  0 hr 41 min\n",
            "val    24.0   13.0       |       0.009     |      0.442      |      0.922     |  0 hr 42 min\n",
            "train 601.0   14.0       |       0.008     |       0.442     |      0.922     |  0 hr 45 min\n",
            "val    24.0   14.0       |       0.008     |      0.426      |      0.926     |  0 hr 45 min\n",
            "train 601.0   15.0       |       0.007     |       0.426     |      0.926     |  0 hr 48 min\n",
            "val    24.0   15.0       |       0.007     |      0.432      |      0.926     |  0 hr 48 min\n",
            "train 601.0   16.0       |       0.007     |       0.432     |      0.926     |  0 hr 51 min\n",
            "val    24.0   16.0       |       0.007     |      0.417      |      0.928     |  0 hr 52 min\n",
            "train  47.0   17.0       |       0.005     |       0.417     |      0.928     |  0 hr 52 min"
          ]
        }
      ]
    },
    {
      "cell_type": "code",
      "source": [
        "!python3 \"/content/drive/MyDrive/Knives/train.py\"\n",
        "# batch=32 | epochs = 15 | learning rate = 0.0001"
      ],
      "metadata": {
        "colab": {
          "base_uri": "https://localhost:8080/"
        },
        "id": "SJdv7ZG67xgN",
        "outputId": "79ef8769-85c4-4695-b3a1-e88eeea08c86"
      },
      "execution_count": null,
      "outputs": [
        {
          "output_type": "stream",
          "name": "stdout",
          "text": [
            "\n",
            "----------------------------------------------- [START 2023-12-12 16:46:53] ---------------------------------------------------\n",
            "\n",
            "                              |----- Train ------|----- Valid----|------ Valid----|-----------|\n",
            "mode      iter       epoch    |       loss       |       loss    |        mAP     |    time   |\n",
            "-----------------------------------------------------------------------------------------------\n",
            "Downloading: \"https://github.com/rwightman/pytorch-image-models/releases/download/v0.1-weights/tf_efficientnet_b0_aa-827b6e33.pth\" to /root/.cache/torch/hub/checkpoints/tf_efficientnet_b0_aa-827b6e33.pth\n",
            "train 300.0    1.0       |       3.509     |       0.000     |      0.000     |  0 hr 07 min\n",
            "val    12.0    1.0       |       3.509     |       1.930     |      0.749     |  0 hr 08 min\n",
            "train 300.0    2.0       |       0.676     |       1.930     |      0.749     |  0 hr 10 min\n",
            "val    12.0    2.0       |       0.676     |       0.736     |      0.902     |  0 hr 11 min\n",
            "train 300.0    3.0       |       0.151     |       0.736     |      0.902     |  0 hr 13 min\n",
            "val    12.0    3.0       |       0.151     |       0.591     |      0.907     |  0 hr 14 min\n",
            "train 300.0    4.0       |       0.062     |       0.591     |      0.907     |  0 hr 16 min\n",
            "val    12.0    4.0       |       0.062     |       0.553     |      0.907     |  0 hr 17 min\n",
            "train 300.0    5.0       |       0.035     |       0.553     |      0.907     |  0 hr 19 min\n",
            "val    12.0    5.0       |       0.035     |       0.513     |      0.918     |  0 hr 20 min\n",
            "train 300.0    6.0       |       0.025     |       0.513     |      0.918     |  0 hr 22 min\n",
            "val    12.0    6.0       |       0.025     |       0.513     |      0.914     |  0 hr 23 min\n",
            "train 300.0    7.0       |       0.017     |       0.513     |      0.914     |  0 hr 25 min\n",
            "val    12.0    7.0       |       0.017     |       0.507     |      0.912     |  0 hr 26 min\n",
            "train 300.0    8.0       |       0.015     |       0.507     |      0.912     |  0 hr 28 min\n",
            "val    12.0    8.0       |       0.015     |       0.494     |      0.918     |  0 hr 29 min\n",
            "train 300.0    9.0       |       0.012     |       0.494     |      0.918     |  0 hr 31 min\n",
            "val    12.0    9.0       |       0.012     |       0.470     |      0.923     |  0 hr 32 min\n",
            "train 300.0   10.0       |       0.010     |       0.470     |      0.923     |  0 hr 34 min\n",
            "val    12.0   10.0       |       0.010     |       0.489     |      0.915     |  0 hr 35 min\n",
            "train 300.0   11.0       |       0.009     |       0.489     |      0.915     |  0 hr 37 min\n",
            "val    12.0   11.0       |       0.009     |       0.491     |      0.914     |  0 hr 38 min\n",
            "train 300.0   12.0       |       0.008     |       0.491     |      0.914     |  0 hr 40 min\n",
            "val    12.0   12.0       |       0.008     |       0.501     |      0.915     |  0 hr 41 min\n",
            "train 300.0   13.0       |       0.007     |       0.501     |      0.915     |  0 hr 43 min\n",
            "val    12.0   13.0       |       0.007     |       0.498     |      0.916     |  0 hr 44 min\n",
            "train 300.0   14.0       |       0.007     |       0.498     |      0.916     |  0 hr 46 min\n",
            "val    12.0   14.0       |       0.007     |       0.501     |      0.915     |  0 hr 47 min\n",
            "train 300.0   15.0       |       0.007     |       0.501     |      0.915     |  0 hr 49 min\n",
            "val    12.0   15.0       |       0.007     |       0.500     |      0.915     |  0 hr 50 min\n",
            "val    12.0   15.0       |       0.007     |       0.500     |      0.915     |  0 hr 50 minFigure(1000x600)\n",
            "Figure(1000x600)\n"
          ]
        }
      ]
    },
    {
      "cell_type": "code",
      "source": [
        "!python3 \"/content/drive/MyDrive/Knives/test.py\""
      ],
      "metadata": {
        "id": "AiJYcoVU5229",
        "colab": {
          "base_uri": "https://localhost:8080/"
        },
        "outputId": "ec90d3ca-355c-4a39-ba91-7cb5562fb968"
      },
      "execution_count": null,
      "outputs": [
        {
          "output_type": "stream",
          "name": "stdout",
          "text": [
            "reading test file\n",
            "Creating test dataloader\n",
            "loading trained model\n",
            "Evaluating trained model\n",
            "mAP = tensor(0.6180, device='cuda:0')\n"
          ]
        }
      ]
    },
    {
      "cell_type": "code",
      "source": [],
      "metadata": {
        "id": "NvPJkvXvJim0"
      },
      "execution_count": null,
      "outputs": []
    },
    {
      "cell_type": "code",
      "source": [
        "!python3 \"/content/drive/MyDrive/Knives/train.py\"\n",
        "# B0 -> batch = 64 | epochs = 20 | learning rate = 0.001"
      ],
      "metadata": {
        "colab": {
          "base_uri": "https://localhost:8080/"
        },
        "outputId": "e4fd8927-94e7-4f8e-adfc-0a298261beef",
        "id": "TtqcRAonJdUP"
      },
      "execution_count": null,
      "outputs": [
        {
          "output_type": "stream",
          "name": "stdout",
          "text": [
            "\n",
            "----------------------------------------------- [START 2023-12-12 17:51:33] ---------------------------------------------------\n",
            "\n",
            "                              |----- Train ------|----- Valid----|------ Valid----|-----------|\n",
            "mode      iter       epoch    |       loss       |       loss    |        mAP     |    time   |\n",
            "-----------------------------------------------------------------------------------------------\n",
            "train 150.0    1.0       |       1.045     |       0.000     |      0.000     |  0 hr 02 min\n",
            "val     6.0    1.0       |       1.045     |       0.513     |      0.911     |  0 hr 02 min\n",
            "train 150.0    2.0       |       0.030     |       0.513     |      0.911     |  0 hr 05 min\n",
            "val     6.0    2.0       |       0.030     |       0.564     |      0.903     |  0 hr 05 min\n",
            "train 150.0    3.0       |       0.024     |       0.564     |      0.903     |  0 hr 07 min\n",
            "val     6.0    3.0       |       0.024     |       0.567     |      0.906     |  0 hr 08 min\n",
            "train 150.0    4.0       |       0.048     |       0.567     |      0.906     |  0 hr 10 min\n",
            "val     6.0    4.0       |       0.048     |       0.702     |      0.896     |  0 hr 11 min\n",
            "train 150.0    5.0       |       0.028     |       0.702     |      0.896     |  0 hr 13 min\n",
            "val     6.0    5.0       |       0.028     |       0.548     |      0.910     |  0 hr 13 min\n",
            "train 150.0    6.0       |       0.014     |       0.548     |      0.910     |  0 hr 16 min\n",
            "val     6.0    6.0       |       0.014     |       0.497     |      0.913     |  0 hr 16 min\n",
            "train 150.0    7.0       |       0.011     |       0.497     |      0.913     |  0 hr 18 min\n",
            "val     6.0    7.0       |       0.011     |       0.611     |      0.910     |  0 hr 19 min\n",
            "train 150.0    8.0       |       0.005     |       0.611     |      0.910     |  0 hr 21 min\n",
            "val     6.0    8.0       |       0.005     |       0.605     |      0.911     |  0 hr 22 min\n",
            "train 150.0    9.0       |       0.001     |       0.605     |      0.911     |  0 hr 24 min\n",
            "val     6.0    9.0       |       0.001     |       0.618     |      0.911     |  0 hr 25 min\n",
            "train 150.0   10.0       |       0.002     |       0.618     |      0.911     |  0 hr 27 min\n",
            "val     6.0   10.0       |       0.002     |       0.589     |      0.912     |  0 hr 27 min\n",
            "train 150.0   11.0       |       0.001     |       0.589     |      0.912     |  0 hr 30 min\n",
            "val     6.0   11.0       |       0.001     |       0.600     |      0.914     |  0 hr 30 min\n",
            "train 150.0   12.0       |       0.000     |       0.600     |      0.914     |  0 hr 32 min\n",
            "val     6.0   12.0       |       0.000     |       0.578     |      0.915     |  0 hr 33 min\n",
            "train 150.0   13.0       |       0.000     |       0.578     |      0.915     |  0 hr 35 min\n",
            "val     6.0   13.0       |       0.000     |       0.587     |      0.916     |  0 hr 36 min\n",
            "train 150.0   14.0       |       0.000     |       0.587     |      0.916     |  0 hr 38 min\n",
            "val     6.0   14.0       |       0.000     |       0.574     |      0.916     |  0 hr 39 min\n",
            "train 150.0   15.0       |       0.000     |       0.574     |      0.916     |  0 hr 41 min\n",
            "val     6.0   15.0       |       0.000     |       0.548     |      0.921     |  0 hr 41 min\n",
            "train 150.0   16.0       |       0.000     |       0.548     |      0.921     |  0 hr 44 min\n",
            "val     6.0   16.0       |       0.000     |       0.552     |      0.919     |  0 hr 44 min\n",
            "train 150.0   17.0       |       0.000     |       0.552     |      0.919     |  0 hr 47 min\n",
            "val     6.0   17.0       |       0.000     |       0.589     |      0.914     |  0 hr 47 min\n",
            "train 150.0   18.0       |       0.000     |       0.589     |      0.914     |  0 hr 49 min\n",
            "val     6.0   18.0       |       0.000     |       0.597     |      0.916     |  0 hr 50 min\n",
            "train 150.0   19.0       |       0.000     |       0.597     |      0.916     |  0 hr 52 min\n",
            "val     6.0   19.0       |       0.000     |       0.579     |      0.918     |  0 hr 53 min\n",
            "train 150.0   20.0       |       0.000     |       0.579     |      0.918     |  0 hr 55 min\n",
            "val     6.0   20.0       |       0.000     |       0.568     |      0.917     |  0 hr 55 min\n",
            "val     6.0   20.0       |       0.000     |       0.568     |      0.917     |  0 hr 55 minFigure(1000x600)\n",
            "Figure(1000x600)\n"
          ]
        }
      ]
    },
    {
      "cell_type": "code",
      "source": [
        "!python3 \"/content/drive/MyDrive/Knives/test.py\""
      ],
      "metadata": {
        "colab": {
          "base_uri": "https://localhost:8080/"
        },
        "id": "FnA9LE86JcQt",
        "outputId": "4a8b260c-514b-4bea-b9ca-54027a3c4d17"
      },
      "execution_count": null,
      "outputs": [
        {
          "output_type": "stream",
          "name": "stdout",
          "text": [
            "reading test file\n",
            "Creating test dataloader\n",
            "loading trained model\n",
            "Evaluating trained model\n",
            "mAP = tensor(0.6231, device='cuda:0')\n"
          ]
        }
      ]
    },
    {
      "cell_type": "code",
      "source": [
        "!python3 \"/content/drive/MyDrive/Knives/train.py\"\n",
        "# B0 ->  batch = 48 | epochs = 20 | learning rate = 0.0005"
      ],
      "metadata": {
        "colab": {
          "base_uri": "https://localhost:8080/"
        },
        "id": "s0rBh4Elb9BY",
        "outputId": "a93fc886-7065-4d63-fe07-fadccf9a4579"
      },
      "execution_count": null,
      "outputs": [
        {
          "output_type": "stream",
          "name": "stdout",
          "text": [
            "\n",
            "----------------------------------------------- [START 2023-12-12 19:10:22] ---------------------------------------------------\n",
            "\n",
            "                              |----- Train ------|----- Valid----|------ Valid----|-----------|\n",
            "mode      iter       epoch    |       loss       |       loss    |        mAP     |    time   |\n",
            "-----------------------------------------------------------------------------------------------\n",
            "train 200.0    1.0       |       1.429     |       0.000     |      0.000     |  0 hr 02 min\n",
            "val     8.0    1.0       |       1.429     |       0.557     |      0.908     |  0 hr 02 min\n",
            "train 200.0    2.0       |       0.035     |       0.557     |      0.908     |  0 hr 04 min\n",
            "val     8.0    2.0       |       0.035     |       0.495     |      0.915     |  0 hr 05 min\n",
            "train 200.0    3.0       |       0.012     |       0.495     |      0.915     |  0 hr 07 min\n",
            "val     8.0    3.0       |       0.012     |       0.499     |      0.914     |  0 hr 08 min\n",
            "train 200.0    4.0       |       0.016     |       0.499     |      0.914     |  0 hr 10 min\n",
            "val     8.0    4.0       |       0.016     |       0.500     |      0.916     |  0 hr 10 min\n",
            "train 200.0    5.0       |       0.006     |       0.500     |      0.916     |  0 hr 12 min\n",
            "val     8.0    5.0       |       0.006     |       0.527     |      0.915     |  0 hr 13 min\n",
            "train 200.0    6.0       |       0.003     |       0.527     |      0.915     |  0 hr 15 min\n",
            "val     8.0    6.0       |       0.003     |       0.523     |      0.914     |  0 hr 16 min\n",
            "train 200.0    7.0       |       0.002     |       0.523     |      0.914     |  0 hr 18 min\n",
            "val     8.0    7.0       |       0.002     |       0.525     |      0.915     |  0 hr 18 min\n",
            "train 200.0    8.0       |       0.001     |       0.525     |      0.915     |  0 hr 21 min\n",
            "val     8.0    8.0       |       0.001     |       0.504     |      0.919     |  0 hr 21 min\n",
            "train 200.0    9.0       |       0.006     |       0.504     |      0.919     |  0 hr 23 min\n",
            "val     8.0    9.0       |       0.006     |       0.583     |      0.911     |  0 hr 24 min\n",
            "train 200.0   10.0       |       0.012     |       0.583     |      0.911     |  0 hr 26 min\n",
            "val     8.0   10.0       |       0.012     |       0.477     |      0.920     |  0 hr 26 min\n",
            "train 200.0   11.0       |       0.007     |       0.477     |      0.920     |  0 hr 29 min\n",
            "val     8.0   11.0       |       0.007     |       0.509     |      0.916     |  0 hr 29 min\n",
            "train 200.0   12.0       |       0.002     |       0.509     |      0.916     |  0 hr 31 min\n",
            "val     8.0   12.0       |       0.002     |       0.519     |      0.914     |  0 hr 32 min\n",
            "train 200.0   13.0       |       0.001     |       0.519     |      0.914     |  0 hr 34 min\n",
            "val     8.0   13.0       |       0.001     |       0.488     |      0.923     |  0 hr 35 min\n",
            "train 200.0   14.0       |       0.001     |       0.488     |      0.923     |  0 hr 37 min\n",
            "val     8.0   14.0       |       0.001     |       0.517     |      0.924     |  0 hr 37 min\n",
            "train 200.0   15.0       |       0.001     |       0.517     |      0.924     |  0 hr 40 min\n",
            "val     8.0   15.0       |       0.001     |       0.493     |      0.926     |  0 hr 40 min\n",
            "train 200.0   16.0       |       0.001     |       0.493     |      0.926     |  0 hr 42 min\n",
            "val     8.0   16.0       |       0.001     |       0.509     |      0.919     |  0 hr 43 min\n",
            "train 200.0   17.0       |       0.001     |       0.509     |      0.919     |  0 hr 45 min\n",
            "val     8.0   17.0       |       0.001     |       0.521     |      0.915     |  0 hr 46 min\n",
            "train 200.0   18.0       |       0.000     |       0.521     |      0.915     |  0 hr 48 min\n",
            "val     8.0   18.0       |       0.000     |       0.504     |      0.925     |  0 hr 48 min\n",
            "train 200.0   19.0       |       0.001     |       0.504     |      0.925     |  0 hr 51 min\n",
            "val     8.0   19.0       |       0.001     |       0.505     |      0.919     |  0 hr 51 min\n",
            "train 200.0   20.0       |       0.001     |       0.505     |      0.919     |  0 hr 53 min\n",
            "val     8.0   20.0       |       0.001     |       0.502     |      0.926     |  0 hr 54 min\n",
            "val     8.0   20.0       |       0.001     |       0.502     |      0.926     |  0 hr 54 minFigure(1000x600)\n",
            "Figure(1000x600)\n"
          ]
        }
      ]
    },
    {
      "cell_type": "code",
      "source": [
        "!python3 \"/content/drive/MyDrive/Knives/test.py\""
      ],
      "metadata": {
        "colab": {
          "base_uri": "https://localhost:8080/"
        },
        "id": "zOahZPEOo2vN",
        "outputId": "83231e65-ac1a-42da-d45a-29372d3bfd98"
      },
      "execution_count": null,
      "outputs": [
        {
          "output_type": "stream",
          "name": "stdout",
          "text": [
            "reading test file\n",
            "Creating test dataloader\n",
            "loading trained model\n",
            "Evaluating trained model\n",
            "mAP = tensor(0.6365, device='cuda:0')\n"
          ]
        }
      ]
    },
    {
      "cell_type": "code",
      "source": [
        "!python3 \"/content/drive/MyDrive/Knives/train.py\"\n",
        "# B6 ->  batch = 48 | epochs = 40 | learning rate = 0.0005"
      ],
      "metadata": {
        "colab": {
          "base_uri": "https://localhost:8080/"
        },
        "id": "NC_X_4wop8Ef",
        "outputId": "7a9a7da8-5c25-4aac-d28e-ad80f29ec7e5"
      },
      "execution_count": null,
      "outputs": [
        {
          "output_type": "stream",
          "name": "stdout",
          "text": [
            "\n",
            "----------------------------------------------- [START 2023-12-13 18:44:28] ---------------------------------------------------\n",
            "\n",
            "                              |----- Train ------|----- Valid----|------ Valid----|-----------|\n",
            "mode      iter       epoch    |       loss       |       loss    |        mAP     |    time   |\n",
            "-----------------------------------------------------------------------------------------------\n",
            "train 200.0    1.0       |       0.844     |       0.000     |      0.000     |  0 hr 04 min\n",
            "val     8.0    1.0       |       0.844     |       0.343     |      0.937     |  0 hr 04 min\n",
            "train 200.0    2.0       |       0.022     |       0.343     |      0.937     |  0 hr 08 min\n",
            "val     8.0    2.0       |       0.022     |       0.399     |      0.934     |  0 hr 09 min\n",
            "train 200.0    3.0       |       0.065     |       0.399     |      0.934     |  0 hr 12 min\n",
            "val     8.0    3.0       |       0.065     |       0.515     |      0.922     |  0 hr 13 min\n",
            "train 200.0    4.0       |       0.058     |       0.515     |      0.922     |  0 hr 16 min\n",
            "val     8.0    4.0       |       0.058     |       0.464     |      0.927     |  0 hr 17 min\n",
            "train 200.0    5.0       |       0.022     |       0.464     |      0.927     |  0 hr 20 min\n",
            "val     8.0    5.0       |       0.022     |       0.494     |      0.915     |  0 hr 21 min\n",
            "train 200.0    6.0       |       0.044     |       0.494     |      0.915     |  0 hr 24 min\n",
            "val     8.0    6.0       |       0.044     |       0.698     |      0.899     |  0 hr 25 min\n",
            "train 200.0    7.0       |       0.044     |       0.698     |      0.899     |  0 hr 28 min\n",
            "val     8.0    7.0       |       0.044     |       0.519     |      0.914     |  0 hr 29 min\n",
            "train 200.0    8.0       |       0.012     |       0.519     |      0.914     |  0 hr 32 min\n",
            "val     8.0    8.0       |       0.012     |       0.462     |      0.925     |  0 hr 33 min\n",
            "train 200.0    9.0       |       0.014     |       0.462     |      0.925     |  0 hr 37 min\n",
            "val     8.0    9.0       |       0.014     |       0.520     |      0.916     |  0 hr 37 min\n",
            "train 200.0   10.0       |       0.011     |       0.520     |      0.916     |  0 hr 41 min\n",
            "val     8.0   10.0       |       0.011     |       0.539     |      0.913     |  0 hr 41 min\n",
            "train 200.0   11.0       |       0.001     |       0.539     |      0.913     |  0 hr 45 min\n",
            "val     8.0   11.0       |       0.001     |       0.530     |      0.922     |  0 hr 45 min\n",
            "train 200.0   12.0       |       0.001     |       0.530     |      0.922     |  0 hr 49 min\n",
            "val     8.0   12.0       |       0.001     |       0.503     |      0.920     |  0 hr 49 min\n",
            "train 200.0   13.0       |       0.001     |       0.503     |      0.920     |  0 hr 53 min\n",
            "val     8.0   13.0       |       0.001     |       0.512     |      0.925     |  0 hr 53 min\n",
            "train 200.0   14.0       |       0.001     |       0.512     |      0.925     |  0 hr 56 min\n",
            "val     8.0   14.0       |       0.001     |       0.491     |      0.929     |  0 hr 57 min\n",
            "train 200.0   15.0       |       0.005     |       0.491     |      0.929     |  1 hr 00 min\n",
            "val     8.0   15.0       |       0.005     |       0.473     |      0.921     |  1 hr 01 min\n",
            "train 200.0   16.0       |       0.043     |       0.473     |      0.921     |  1 hr 05 min\n",
            "val     8.0   16.0       |       0.043     |       0.652     |      0.903     |  1 hr 05 min\n",
            "train 200.0   17.0       |       0.036     |       0.652     |      0.903     |  1 hr 09 min\n",
            "val     8.0   17.0       |       0.036     |       0.663     |      0.915     |  1 hr 09 min\n",
            "train 200.0   18.0       |       0.005     |       0.663     |      0.915     |  1 hr 13 min\n",
            "val     8.0   18.0       |       0.005     |       0.567     |      0.921     |  1 hr 13 min\n",
            "train 200.0   19.0       |       0.006     |       0.567     |      0.921     |  1 hr 17 min\n",
            "val     8.0   19.0       |       0.006     |       0.547     |      0.931     |  1 hr 17 min\n",
            "train 200.0   20.0       |       0.005     |       0.547     |      0.931     |  1 hr 21 min\n",
            "val     8.0   20.0       |       0.005     |       0.500     |      0.926     |  1 hr 21 min\n",
            "train 200.0   21.0       |       0.001     |       0.500     |      0.926     |  1 hr 25 min\n",
            "val     8.0   21.0       |       0.001     |       0.551     |      0.924     |  1 hr 25 min\n",
            "train 200.0   22.0       |       0.000     |       0.551     |      0.924     |  1 hr 29 min\n",
            "val     8.0   22.0       |       0.000     |       0.540     |      0.920     |  1 hr 29 min\n",
            "train 200.0   23.0       |       0.000     |       0.540     |      0.920     |  1 hr 33 min\n",
            "val     8.0   23.0       |       0.000     |       0.556     |      0.923     |  1 hr 33 min\n",
            "train 200.0   24.0       |       0.000     |       0.556     |      0.923     |  1 hr 37 min\n",
            "val     8.0   24.0       |       0.000     |       0.549     |      0.923     |  1 hr 37 min\n",
            "train 200.0   25.0       |       0.000     |       0.549     |      0.923     |  1 hr 41 min\n",
            "val     8.0   25.0       |       0.000     |       0.536     |      0.923     |  1 hr 41 min\n",
            "train 200.0   26.0       |       0.000     |       0.536     |      0.923     |  1 hr 44 min\n",
            "val     8.0   26.0       |       0.000     |       0.554     |      0.924     |  1 hr 45 min\n",
            "train 200.0   27.0       |       0.000     |       0.554     |      0.924     |  1 hr 48 min\n",
            "val     8.0   27.0       |       0.000     |       0.558     |      0.922     |  1 hr 49 min\n",
            "train 200.0   28.0       |       0.000     |       0.558     |      0.922     |  1 hr 52 min\n",
            "val     8.0   28.0       |       0.000     |       0.563     |      0.918     |  1 hr 53 min\n",
            "train 200.0   29.0       |       0.000     |       0.563     |      0.918     |  1 hr 56 min\n",
            "val     8.0   29.0       |       0.000     |       0.545     |      0.925     |  1 hr 57 min\n",
            "train 200.0   30.0       |       0.000     |       0.545     |      0.925     |  2 hr 00 min\n",
            "val     8.0   30.0       |       0.000     |       0.537     |      0.923     |  2 hr 00 min\n",
            "train 200.0   31.0       |       0.000     |       0.537     |      0.923     |  2 hr 04 min\n",
            "val     8.0   31.0       |       0.000     |       0.537     |      0.920     |  2 hr 04 min\n",
            "train 200.0   32.0       |       0.000     |       0.537     |      0.920     |  2 hr 08 min\n",
            "val     8.0   32.0       |       0.000     |       0.515     |      0.925     |  2 hr 08 min\n",
            "train 200.0   33.0       |       0.000     |       0.515     |      0.925     |  2 hr 11 min\n",
            "val     8.0   33.0       |       0.000     |       0.534     |      0.921     |  2 hr 12 min\n",
            "train 200.0   34.0       |       0.000     |       0.534     |      0.921     |  2 hr 15 min\n",
            "val     8.0   34.0       |       0.000     |       0.552     |      0.920     |  2 hr 16 min\n",
            "train 200.0   35.0       |       0.000     |       0.552     |      0.920     |  2 hr 19 min\n",
            "val     8.0   35.0       |       0.000     |       0.557     |      0.927     |  2 hr 20 min\n",
            "train 200.0   36.0       |       0.000     |       0.557     |      0.927     |  2 hr 23 min\n",
            "val     8.0   36.0       |       0.000     |       0.548     |      0.923     |  2 hr 24 min\n",
            "train 200.0   37.0       |       0.000     |       0.548     |      0.923     |  2 hr 27 min\n",
            "val     8.0   37.0       |       0.000     |       0.529     |      0.924     |  2 hr 28 min\n",
            "train 200.0   38.0       |       0.000     |       0.529     |      0.924     |  2 hr 31 min\n",
            "val     8.0   38.0       |       0.000     |       0.544     |      0.925     |  2 hr 31 min\n",
            "train 200.0   39.0       |       0.000     |       0.544     |      0.925     |  2 hr 35 min\n",
            "val     8.0   39.0       |       0.000     |       0.559     |      0.923     |  2 hr 35 min\n",
            "train 200.0   40.0       |       0.000     |       0.559     |      0.923     |  2 hr 39 min\n",
            "val     8.0   40.0       |       0.000     |       0.534     |      0.921     |  2 hr 39 min\n",
            "val     8.0   40.0       |       0.000     |       0.534     |      0.921     |  2 hr 39 minFigure(1000x600)\n",
            "Figure(1000x600)\n"
          ]
        }
      ]
    },
    {
      "cell_type": "code",
      "source": [
        "!python3 \"/content/drive/MyDrive/Knives/test.py\""
      ],
      "metadata": {
        "colab": {
          "base_uri": "https://localhost:8080/"
        },
        "id": "2-1vpV9-Gj4g",
        "outputId": "163ceffa-058f-460d-fa67-ebe9fb48150c"
      },
      "execution_count": null,
      "outputs": [
        {
          "output_type": "stream",
          "name": "stdout",
          "text": [
            "reading test file\n",
            "Creating test dataloader\n",
            "loading trained model\n",
            "Evaluating trained model\n",
            "mAP = tensor(0.6785, device='cuda:0')\n"
          ]
        }
      ]
    },
    {
      "cell_type": "code",
      "source": [
        "!python3 \"/content/drive/MyDrive/Knives/train.py\" #IGNORE try 60 epochs"
      ],
      "metadata": {
        "colab": {
          "base_uri": "https://localhost:8080/"
        },
        "id": "_FI2qxpCKLA_",
        "outputId": "9cc2cdf5-3d6f-4e27-ab01-b5b3431f946f"
      },
      "execution_count": null,
      "outputs": [
        {
          "output_type": "stream",
          "name": "stdout",
          "text": [
            "\n",
            "----------------------------------------------- [START 2023-12-13 21:54:54] ---------------------------------------------------\n",
            "\n",
            "                              |----- Train ------|----- Valid----|------ Valid----|-----------|\n",
            "mode      iter       epoch    |       loss       |       loss    |        mAP     |    time   |\n",
            "-----------------------------------------------------------------------------------------------\n",
            "train 150.0    1.0       |       0.932     |       0.000     |      0.000     |  0 hr 03 min\n",
            "val     6.0    1.0       |       0.932     |       0.354     |      0.935     |  0 hr 03 min\n",
            "train 150.0    2.0       |       0.014     |       0.354     |      0.935     |  0 hr 07 min\n",
            "val     6.0    2.0       |       0.014     |       0.342     |      0.933     |  0 hr 08 min\n",
            "val     6.0    2.0       |       0.014     |       0.342     |      0.933     |  0 hr 08 minFigure(1000x600)\n",
            "Figure(1000x600)\n"
          ]
        }
      ]
    },
    {
      "cell_type": "code",
      "source": [
        "!python3 \"/content/drive/MyDrive/Knives/test.py\" # IGNORE"
      ],
      "metadata": {
        "colab": {
          "base_uri": "https://localhost:8080/"
        },
        "id": "8V0uHbu1Nmrs",
        "outputId": "9997231a-f46f-4134-c2d4-61490986bd6a"
      },
      "execution_count": null,
      "outputs": [
        {
          "output_type": "stream",
          "name": "stdout",
          "text": [
            "reading test file\n",
            "Creating test dataloader\n",
            "loading trained model\n",
            "Evaluating trained model\n",
            "mAP = tensor(0.7316, device='cuda:0')\n"
          ]
        }
      ]
    },
    {
      "cell_type": "code",
      "source": [
        "!python3 \"/content/drive/MyDrive/Knives/train.py\" #DenseNet121\n",
        "# batch=64, epochs=22, lr=0.0001"
      ],
      "metadata": {
        "colab": {
          "base_uri": "https://localhost:8080/"
        },
        "id": "d4OKUm2xUQZw",
        "outputId": "2d5866dd-b320-4e1c-c68d-ca5791c16454"
      },
      "execution_count": null,
      "outputs": [
        {
          "output_type": "stream",
          "name": "stdout",
          "text": [
            "\n",
            "----------------------------------------------- [START 2023-12-19 19:40:59] ---------------------------------------------------\n",
            "\n",
            "                              |----- Train ------|----- Valid----|------ Valid----|-----------|\n",
            "mode      iter       epoch    |       loss       |       loss    |        mAP     |    time   |\n",
            "-----------------------------------------------------------------------------------------------\n",
            "Downloading: \"https://github.com/rwightman/pytorch-image-models/releases/download/v0.1-weights/densenet121_ra-50efcf5c.pth\" to /root/.cache/torch/hub/checkpoints/densenet121_ra-50efcf5c.pth\n",
            "train 150.0    1.0       |       3.946     |       0.000     |      0.000     |  0 hr 03 min\n",
            "val     6.0    1.0       |       3.946     |       2.521     |      0.654     |  0 hr 04 min\n",
            "train 150.0    2.0       |       1.226     |       2.521     |      0.654     |  0 hr 07 min\n",
            "val     6.0    2.0       |       1.226     |       1.006     |      0.884     |  0 hr 07 min\n",
            "train 150.0    3.0       |       0.295     |       1.006     |      0.884     |  0 hr 10 min\n",
            "val     6.0    3.0       |       0.295     |       0.613     |      0.915     |  0 hr 10 min\n",
            "train 150.0    4.0       |       0.110     |       0.613     |      0.915     |  0 hr 13 min\n",
            "val     6.0    4.0       |       0.110     |       0.561     |      0.914     |  0 hr 14 min\n",
            "train 150.0    5.0       |       0.058     |       0.561     |      0.914     |  0 hr 16 min\n",
            "val     6.0    5.0       |       0.058     |       0.503     |      0.924     |  0 hr 17 min\n",
            "train 150.0    6.0       |       0.039     |       0.503     |      0.924     |  0 hr 19 min\n",
            "val     6.0    6.0       |       0.039     |       0.518     |      0.918     |  0 hr 20 min\n",
            "train 150.0    7.0       |       0.027     |       0.518     |      0.918     |  0 hr 22 min\n",
            "val     6.0    7.0       |       0.027     |       0.501     |      0.921     |  0 hr 23 min\n",
            "train 150.0    8.0       |       0.021     |       0.501     |      0.921     |  0 hr 25 min\n",
            "val     6.0    8.0       |       0.021     |       0.485     |      0.924     |  0 hr 26 min\n",
            "train 150.0    9.0       |       0.017     |       0.485     |      0.924     |  0 hr 28 min\n",
            "val     6.0    9.0       |       0.017     |       0.484     |      0.926     |  0 hr 29 min\n",
            "train 150.0   10.0       |       0.013     |       0.484     |      0.926     |  0 hr 31 min\n",
            "val     6.0   10.0       |       0.013     |       0.493     |      0.921     |  0 hr 32 min\n",
            "train 150.0   11.0       |       0.012     |       0.493     |      0.921     |  0 hr 34 min\n",
            "val     6.0   11.0       |       0.012     |       0.481     |      0.921     |  0 hr 35 min\n",
            "train 150.0   12.0       |       0.010     |       0.481     |      0.921     |  0 hr 37 min\n",
            "val     6.0   12.0       |       0.010     |       0.497     |      0.918     |  0 hr 38 min\n",
            "train 150.0   13.0       |       0.009     |       0.497     |      0.918     |  0 hr 40 min\n",
            "val     6.0   13.0       |       0.009     |       0.501     |      0.921     |  0 hr 41 min\n",
            "train 150.0   14.0       |       0.009     |       0.501     |      0.921     |  0 hr 43 min\n",
            "val     6.0   14.0       |       0.009     |       0.484     |      0.924     |  0 hr 44 min\n",
            "train 150.0   15.0       |       0.007     |       0.484     |      0.924     |  0 hr 47 min\n",
            "val     6.0   15.0       |       0.007     |       0.486     |      0.925     |  0 hr 47 min\n",
            "train 150.0   16.0       |       0.007     |       0.486     |      0.925     |  0 hr 50 min\n",
            "val     6.0   16.0       |       0.007     |       0.470     |      0.923     |  0 hr 50 min\n",
            "train 150.0   17.0       |       0.006     |       0.470     |      0.923     |  0 hr 53 min\n",
            "val     6.0   17.0       |       0.006     |       0.503     |      0.921     |  0 hr 53 min\n",
            "train 150.0   18.0       |       0.006     |       0.503     |      0.921     |  0 hr 56 min\n",
            "val     6.0   18.0       |       0.006     |       0.485     |      0.923     |  0 hr 56 min\n",
            "train 150.0   19.0       |       0.006     |       0.485     |      0.923     |  0 hr 59 min\n",
            "val     6.0   19.0       |       0.006     |       0.482     |      0.921     |  0 hr 59 min\n",
            "train 150.0   20.0       |       0.006     |       0.482     |      0.921     |  1 hr 02 min\n",
            "val     6.0   20.0       |       0.006     |       0.507     |      0.920     |  1 hr 02 min\n",
            "train 150.0   21.0       |       0.006     |       0.507     |      0.920     |  1 hr 05 min\n",
            "val     6.0   21.0       |       0.006     |       0.496     |      0.923     |  1 hr 05 min\n",
            "train 150.0   22.0       |       0.006     |       0.496     |      0.923     |  1 hr 08 min\n",
            "val     6.0   22.0       |       0.006     |       0.496     |      0.919     |  1 hr 09 min\n",
            "val     6.0   22.0       |       0.006     |       0.496     |      0.919     |  1 hr 09 minFigure(1000x600)\n",
            "Figure(1000x600)\n"
          ]
        }
      ]
    },
    {
      "cell_type": "code",
      "source": [
        "!python3 \"/content/drive/MyDrive/Knives/test.py\""
      ],
      "metadata": {
        "colab": {
          "base_uri": "https://localhost:8080/"
        },
        "id": "2DGWHXoTl0gj",
        "outputId": "87c299b7-8596-4dea-e5d5-5488b2863dec"
      },
      "execution_count": null,
      "outputs": [
        {
          "output_type": "stream",
          "name": "stdout",
          "text": [
            "reading test file\n",
            "Creating test dataloader\n",
            "loading trained model\n",
            "Evaluating trained model\n",
            "mAP = tensor(0.6433, device='cuda:0')\n"
          ]
        }
      ]
    },
    {
      "cell_type": "code",
      "source": [
        "!python3 \"/content/drive/MyDrive/Knives/train.py\" #DenseNet121\n",
        "# batch=64, epochs=32, lr=0.0001"
      ],
      "metadata": {
        "colab": {
          "base_uri": "https://localhost:8080/"
        },
        "id": "xB1GgqV15KBD",
        "outputId": "6dea2be5-dcb1-434e-c706-f472696a37a2"
      },
      "execution_count": null,
      "outputs": [
        {
          "output_type": "stream",
          "name": "stdout",
          "text": [
            "\n",
            "----------------------------------------------- [START 2023-12-19 21:05:46] ---------------------------------------------------\n",
            "\n",
            "                              |----- Train ------|----- Valid----|------ Valid----|-----------|\n",
            "mode      iter       epoch    |       loss       |       loss    |        mAP     |    time   |\n",
            "-----------------------------------------------------------------------------------------------\n",
            "train 150.0    1.0       |       3.952     |       0.000     |      0.000     |  0 hr 02 min\n",
            "val     6.0    1.0       |       3.952     |       2.526     |      0.660     |  0 hr 03 min\n",
            "train 150.0    2.0       |       1.223     |       2.526     |      0.660     |  0 hr 05 min\n",
            "val     6.0    2.0       |       1.223     |       0.998     |      0.887     |  0 hr 06 min\n",
            "train 150.0    3.0       |       0.291     |       0.998     |      0.887     |  0 hr 08 min\n",
            "val     6.0    3.0       |       0.291     |       0.606     |      0.912     |  0 hr 09 min\n",
            "train 150.0    4.0       |       0.107     |       0.606     |      0.912     |  0 hr 11 min\n",
            "val     6.0    4.0       |       0.107     |       0.550     |      0.917     |  0 hr 12 min\n",
            "train 150.0    5.0       |       0.056     |       0.550     |      0.917     |  0 hr 14 min\n",
            "val     6.0    5.0       |       0.056     |       0.500     |      0.926     |  0 hr 15 min\n",
            "train 150.0    6.0       |       0.036     |       0.500     |      0.926     |  0 hr 18 min\n",
            "val     6.0    6.0       |       0.036     |       0.516     |      0.919     |  0 hr 18 min\n",
            "train 150.0    7.0       |       0.025     |       0.516     |      0.919     |  0 hr 21 min\n",
            "val     6.0    7.0       |       0.025     |       0.505     |      0.919     |  0 hr 21 min\n",
            "train 150.0    8.0       |       0.020     |       0.505     |      0.919     |  0 hr 24 min\n",
            "val     6.0    8.0       |       0.020     |       0.486     |      0.924     |  0 hr 24 min\n",
            "train 150.0    9.0       |       0.015     |       0.486     |      0.924     |  0 hr 27 min\n",
            "val     6.0    9.0       |       0.015     |       0.480     |      0.925     |  0 hr 27 min\n",
            "train 150.0   10.0       |       0.011     |       0.480     |      0.925     |  0 hr 30 min\n",
            "val     6.0   10.0       |       0.011     |       0.493     |      0.922     |  0 hr 30 min\n",
            "train 150.0   11.0       |       0.010     |       0.493     |      0.922     |  0 hr 33 min\n",
            "val     6.0   11.0       |       0.010     |       0.484     |      0.921     |  0 hr 34 min\n",
            "train 150.0   12.0       |       0.008     |       0.484     |      0.921     |  0 hr 36 min\n",
            "val     6.0   12.0       |       0.008     |       0.501     |      0.918     |  0 hr 37 min\n",
            "train 150.0   13.0       |       0.008     |       0.501     |      0.918     |  0 hr 39 min\n",
            "val     6.0   13.0       |       0.008     |       0.519     |      0.912     |  0 hr 40 min\n",
            "train 150.0   14.0       |       0.009     |       0.519     |      0.912     |  0 hr 42 min\n",
            "val     6.0   14.0       |       0.009     |       0.492     |      0.921     |  0 hr 43 min\n",
            "train 150.0   15.0       |       0.006     |       0.492     |      0.921     |  0 hr 45 min\n",
            "val     6.0   15.0       |       0.006     |       0.490     |      0.926     |  0 hr 46 min\n",
            "train 150.0   16.0       |       0.005     |       0.490     |      0.926     |  0 hr 49 min\n",
            "val     6.0   16.0       |       0.005     |       0.478     |      0.922     |  0 hr 49 min\n",
            "train 150.0   17.0       |       0.004     |       0.478     |      0.922     |  0 hr 52 min\n",
            "val     6.0   17.0       |       0.004     |       0.507     |      0.921     |  0 hr 52 min\n",
            "train 150.0   18.0       |       0.004     |       0.507     |      0.921     |  0 hr 55 min\n",
            "val     6.0   18.0       |       0.004     |       0.490     |      0.923     |  0 hr 55 min\n",
            "train 150.0   19.0       |       0.004     |       0.490     |      0.923     |  0 hr 58 min\n",
            "val     6.0   19.0       |       0.004     |       0.492     |      0.923     |  0 hr 58 min\n",
            "train 150.0   20.0       |       0.004     |       0.492     |      0.923     |  1 hr 01 min\n",
            "val     6.0   20.0       |       0.004     |       0.513     |      0.919     |  1 hr 01 min\n",
            "train 150.0   21.0       |       0.003     |       0.513     |      0.919     |  1 hr 04 min\n",
            "val     6.0   21.0       |       0.003     |       0.500     |      0.921     |  1 hr 05 min\n",
            "train 150.0   22.0       |       0.003     |       0.500     |      0.921     |  1 hr 07 min\n",
            "val     6.0   22.0       |       0.003     |       0.501     |      0.920     |  1 hr 08 min\n",
            "train 150.0   23.0       |       0.003     |       0.501     |      0.920     |  1 hr 10 min\n",
            "val     6.0   23.0       |       0.003     |       0.505     |      0.921     |  1 hr 11 min\n",
            "train 150.0   24.0       |       0.003     |       0.505     |      0.921     |  1 hr 13 min\n",
            "val     6.0   24.0       |       0.003     |       0.499     |      0.924     |  1 hr 14 min\n",
            "train 150.0   25.0       |       0.002     |       0.499     |      0.924     |  1 hr 17 min\n",
            "val     6.0   25.0       |       0.002     |       0.504     |      0.921     |  1 hr 17 min\n",
            "train 150.0   26.0       |       0.002     |       0.504     |      0.921     |  1 hr 20 min\n",
            "val     6.0   26.0       |       0.002     |       0.497     |      0.921     |  1 hr 20 min\n",
            "train 150.0   27.0       |       0.002     |       0.497     |      0.921     |  1 hr 23 min\n",
            "val     6.0   27.0       |       0.002     |       0.500     |      0.920     |  1 hr 24 min\n",
            "train 150.0   28.0       |       0.002     |       0.500     |      0.920     |  1 hr 26 min\n",
            "val     6.0   28.0       |       0.002     |       0.503     |      0.920     |  1 hr 27 min\n",
            "train 150.0   29.0       |       0.002     |       0.503     |      0.920     |  1 hr 30 min\n",
            "val     6.0   29.0       |       0.002     |       0.502     |      0.921     |  1 hr 30 min\n",
            "train 150.0   30.0       |       0.002     |       0.502     |      0.921     |  1 hr 33 min\n",
            "val     6.0   30.0       |       0.002     |       0.517     |      0.918     |  1 hr 33 min\n",
            "train 150.0   31.0       |       0.002     |       0.517     |      0.918     |  1 hr 36 min\n",
            "val     6.0   31.0       |       0.002     |       0.513     |      0.918     |  1 hr 36 min\n",
            "train 150.0   32.0       |       0.002     |       0.513     |      0.918     |  1 hr 39 min\n",
            "val     6.0   32.0       |       0.002     |       0.501     |      0.921     |  1 hr 40 min\n",
            "val     6.0   32.0       |       0.002     |       0.501     |      0.921     |  1 hr 40 minFigure(1000x600)\n",
            "Figure(1000x600)\n"
          ]
        }
      ]
    },
    {
      "cell_type": "code",
      "source": [
        "!python3 \"/content/drive/MyDrive/Knives/test.py\""
      ],
      "metadata": {
        "colab": {
          "base_uri": "https://localhost:8080/"
        },
        "id": "moqlT1sPQuxL",
        "outputId": "15361127-b990-45f1-8869-b4836c5d787c"
      },
      "execution_count": null,
      "outputs": [
        {
          "output_type": "stream",
          "name": "stdout",
          "text": [
            "reading test file\n",
            "Creating test dataloader\n",
            "loading trained model\n",
            "Evaluating trained model\n",
            "mAP = tensor(0.6536, device='cuda:0')\n"
          ]
        }
      ]
    },
    {
      "cell_type": "code",
      "source": [
        "!python3 \"/content/drive/MyDrive/Knives/train.py\" #DenseNet121\n",
        "# batch=32, epochs=32, lr=0.0001"
      ],
      "metadata": {
        "colab": {
          "base_uri": "https://localhost:8080/"
        },
        "id": "9XYXf_G-kJA-",
        "outputId": "7fdf4138-ea76-447c-8dff-1dff91f0d91a"
      },
      "execution_count": null,
      "outputs": [
        {
          "output_type": "stream",
          "name": "stdout",
          "text": [
            "\n",
            "----------------------------------------------- [START 2023-12-22 22:06:58] ---------------------------------------------------\n",
            "\n",
            "                              |----- Train ------|----- Valid----|------ Valid----|-----------|\n",
            "mode      iter       epoch    |       loss       |       loss    |        mAP     |    time   |\n",
            "-----------------------------------------------------------------------------------------------\n",
            "Downloading: \"https://github.com/rwightman/pytorch-image-models/releases/download/v0.1-weights/densenet121_ra-50efcf5c.pth\" to /root/.cache/torch/hub/checkpoints/densenet121_ra-50efcf5c.pth\n",
            "train 300.0    1.0       |       3.392     |       0.000     |      0.000     |  0 hr 04 min\n",
            "val    12.0    1.0       |       3.392     |       1.697     |      0.795     |  0 hr 05 min\n",
            "train 300.0    2.0       |       0.646     |       1.697     |      0.795     |  0 hr 07 min\n",
            "val    12.0    2.0       |       0.646     |       0.653     |      0.913     |  0 hr 08 min\n",
            "train 300.0    3.0       |       0.142     |       0.653     |      0.913     |  0 hr 10 min\n",
            "val    12.0    3.0       |       0.142     |       0.515     |      0.918     |  0 hr 11 min\n",
            "train 300.0    4.0       |       0.060     |       0.515     |      0.918     |  0 hr 13 min\n",
            "val    12.0    4.0       |       0.060     |       0.503     |      0.916     |  0 hr 14 min\n",
            "train 300.0    5.0       |       0.033     |       0.503     |      0.916     |  0 hr 16 min\n",
            "val    12.0    5.0       |       0.033     |       0.463     |      0.920     |  0 hr 17 min\n",
            "train 300.0    6.0       |       0.021     |       0.463     |      0.920     |  0 hr 19 min\n",
            "val    12.0    6.0       |       0.021     |       0.485     |      0.917     |  0 hr 20 min\n",
            "train 300.0    7.0       |       0.016     |       0.485     |      0.917     |  0 hr 22 min\n",
            "val    12.0    7.0       |       0.016     |       0.457     |      0.922     |  0 hr 23 min\n",
            "train 300.0    8.0       |       0.012     |       0.457     |      0.922     |  0 hr 25 min\n",
            "val    12.0    8.0       |       0.012     |       0.464     |      0.922     |  0 hr 26 min\n",
            "train 300.0    9.0       |       0.012     |       0.464     |      0.922     |  0 hr 28 min\n",
            "val    12.0    9.0       |       0.012     |       0.442     |      0.929     |  0 hr 29 min\n",
            "train 300.0   10.0       |       0.008     |       0.442     |      0.929     |  0 hr 31 min\n",
            "val    12.0   10.0       |       0.008     |       0.452     |      0.925     |  0 hr 32 min\n",
            "train 300.0   11.0       |       0.007     |       0.452     |      0.925     |  0 hr 34 min\n",
            "val    12.0   11.0       |       0.007     |       0.431     |      0.930     |  0 hr 35 min\n",
            "train 300.0   12.0       |       0.004     |       0.431     |      0.930     |  0 hr 37 min\n",
            "val    12.0   12.0       |       0.004     |       0.454     |      0.925     |  0 hr 38 min\n",
            "train 300.0   13.0       |       0.004     |       0.454     |      0.925     |  0 hr 40 min\n",
            "val    12.0   13.0       |       0.004     |       0.484     |      0.926     |  0 hr 41 min\n",
            "train 300.0   14.0       |       0.007     |       0.484     |      0.926     |  0 hr 43 min\n",
            "val    12.0   14.0       |       0.007     |       0.490     |      0.919     |  0 hr 44 min\n",
            "train 300.0   15.0       |       0.005     |       0.490     |      0.919     |  0 hr 46 min\n",
            "val    12.0   15.0       |       0.005     |       0.458     |      0.925     |  0 hr 47 min\n",
            "train 300.0   16.0       |       0.003     |       0.458     |      0.925     |  0 hr 49 min\n",
            "val    12.0   16.0       |       0.003     |       0.444     |      0.927     |  0 hr 50 min\n",
            "train 300.0   17.0       |       0.002     |       0.444     |      0.927     |  0 hr 52 min\n",
            "val    12.0   17.0       |       0.002     |       0.475     |      0.928     |  0 hr 53 min\n",
            "train 300.0   18.0       |       0.005     |       0.475     |      0.928     |  0 hr 55 min\n",
            "val    12.0   18.0       |       0.005     |       0.448     |      0.927     |  0 hr 56 min\n",
            "train 300.0   19.0       |       0.002     |       0.448     |      0.927     |  0 hr 58 min\n",
            "val    12.0   19.0       |       0.002     |       0.448     |      0.924     |  0 hr 59 min\n",
            "train 300.0   20.0       |       0.001     |       0.448     |      0.924     |  1 hr 01 min\n",
            "val    12.0   20.0       |       0.001     |       0.476     |      0.923     |  1 hr 02 min\n",
            "train 300.0   21.0       |       0.002     |       0.476     |      0.923     |  1 hr 04 min\n",
            "val    12.0   21.0       |       0.002     |       0.479     |      0.920     |  1 hr 05 min\n",
            "train 300.0   22.0       |       0.003     |       0.479     |      0.920     |  1 hr 07 min\n",
            "val    12.0   22.0       |       0.003     |       0.455     |      0.926     |  1 hr 08 min\n",
            "train 300.0   23.0       |       0.001     |       0.455     |      0.926     |  1 hr 10 min\n",
            "val    12.0   23.0       |       0.001     |       0.470     |      0.923     |  1 hr 11 min\n",
            "train 300.0   24.0       |       0.001     |       0.470     |      0.923     |  1 hr 13 min\n",
            "val    12.0   24.0       |       0.001     |       0.468     |      0.923     |  1 hr 14 min\n",
            "train 300.0   25.0       |       0.001     |       0.468     |      0.923     |  1 hr 17 min\n",
            "val    12.0   25.0       |       0.001     |       0.479     |      0.923     |  1 hr 17 min\n",
            "train 300.0   26.0       |       0.001     |       0.479     |      0.923     |  1 hr 20 min\n",
            "val    12.0   26.0       |       0.001     |       0.465     |      0.924     |  1 hr 20 min\n",
            "train 300.0   27.0       |       0.001     |       0.465     |      0.924     |  1 hr 23 min\n",
            "val    12.0   27.0       |       0.001     |       0.466     |      0.924     |  1 hr 23 min\n",
            "train 300.0   28.0       |       0.001     |       0.466     |      0.924     |  1 hr 26 min\n",
            "val    12.0   28.0       |       0.001     |       0.480     |      0.925     |  1 hr 26 min\n",
            "train 300.0   29.0       |       0.001     |       0.480     |      0.925     |  1 hr 29 min\n",
            "val    12.0   29.0       |       0.001     |       0.475     |      0.924     |  1 hr 29 min\n",
            "train 300.0   30.0       |       0.001     |       0.475     |      0.924     |  1 hr 32 min\n",
            "val    12.0   30.0       |       0.001     |       0.491     |      0.924     |  1 hr 32 min\n",
            "train 300.0   31.0       |       0.001     |       0.491     |      0.924     |  1 hr 35 min\n",
            "val    12.0   31.0       |       0.001     |       0.499     |      0.923     |  1 hr 35 min\n",
            "train 300.0   32.0       |       0.001     |       0.499     |      0.923     |  1 hr 38 min\n",
            "val    12.0   32.0       |       0.001     |       0.472     |      0.924     |  1 hr 38 min\n",
            "val    12.0   32.0       |       0.001     |       0.472     |      0.924     |  1 hr 38 minFigure(1000x600)\n",
            "Figure(1000x600)\n"
          ]
        }
      ]
    },
    {
      "cell_type": "code",
      "source": [
        "!python3 \"/content/drive/MyDrive/Knives/test.py\""
      ],
      "metadata": {
        "colab": {
          "base_uri": "https://localhost:8080/"
        },
        "id": "Sjb3aIy4kNE1",
        "outputId": "7b177405-ef74-4ba1-f17a-c0d1c561549e"
      },
      "execution_count": null,
      "outputs": [
        {
          "output_type": "stream",
          "name": "stdout",
          "text": [
            "reading test file\n",
            "Creating test dataloader\n",
            "loading trained model\n",
            "Evaluating trained model\n",
            "mAP = tensor(0.6829, device='cuda:0')\n"
          ]
        }
      ]
    },
    {
      "cell_type": "code",
      "source": [
        "!python3 \"/content/drive/MyDrive/Knives/train.py\" #DenseNet121\n",
        "# batch=16, epochs=36, lr=0.0001"
      ],
      "metadata": {
        "colab": {
          "base_uri": "https://localhost:8080/"
        },
        "id": "ifSYicyCPVAs",
        "outputId": "55069b79-13f6-4889-fe03-4116be2b94b4"
      },
      "execution_count": null,
      "outputs": [
        {
          "output_type": "stream",
          "name": "stdout",
          "text": [
            "\n",
            "----------------------------------------------- [START 2023-12-24 19:12:21] ---------------------------------------------------\n",
            "\n",
            "                              |----- Train ------|----- Valid----|------ Valid----|-----------|\n",
            "mode      iter       epoch    |       loss       |       loss    |        mAP     |    time   |\n",
            "-----------------------------------------------------------------------------------------------\n",
            "Downloading: \"https://github.com/rwightman/pytorch-image-models/releases/download/v0.1-weights/densenet121_ra-50efcf5c.pth\" to /root/.cache/torch/hub/checkpoints/densenet121_ra-50efcf5c.pth\n",
            "train 601.0    1.0       |       2.806     |       0.000     |      0.000     |  0 hr 03 min\n",
            "val    24.0    1.0       |       2.806     |       1.068     |      0.877     |  0 hr 04 min\n",
            "train 601.0    2.0       |       0.361     |       1.068     |      0.877     |  0 hr 07 min\n",
            "val    24.0    2.0       |       0.361     |       0.507     |      0.916     |  0 hr 08 min\n",
            "train 601.0    3.0       |       0.082     |       0.507     |      0.916     |  0 hr 11 min\n",
            "val    24.0    3.0       |       0.082     |       0.434     |      0.926     |  0 hr 11 min\n",
            "train 601.0    4.0       |       0.046     |       0.434     |      0.926     |  0 hr 15 min\n",
            "val    24.0    4.0       |       0.046     |       0.461     |      0.924     |  0 hr 15 min\n",
            "train 601.0    5.0       |       0.022     |       0.461     |      0.924     |  0 hr 18 min\n",
            "val    24.0    5.0       |       0.022     |       0.418     |      0.929     |  0 hr 19 min\n",
            "train 601.0    6.0       |       0.014     |       0.418     |      0.929     |  0 hr 22 min\n",
            "val    24.0    6.0       |       0.014     |       0.450     |      0.922     |  0 hr 23 min\n",
            "train 601.0    7.0       |       0.015     |       0.450     |      0.922     |  0 hr 26 min\n",
            "val    24.0    7.0       |       0.015     |       0.427     |      0.920     |  0 hr 26 min\n",
            "train 601.0    8.0       |       0.020     |       0.427     |      0.920     |  0 hr 29 min\n",
            "val    24.0    8.0       |       0.020     |       0.508     |      0.921     |  0 hr 30 min\n",
            "train 601.0    9.0       |       0.016     |       0.508     |      0.921     |  0 hr 33 min\n",
            "val    24.0    9.0       |       0.016     |       0.452     |      0.924     |  0 hr 34 min\n",
            "train 601.0   10.0       |       0.008     |       0.452     |      0.924     |  0 hr 37 min\n",
            "val    24.0   10.0       |       0.008     |       0.492     |      0.918     |  0 hr 37 min\n",
            "train 601.0   11.0       |       0.006     |       0.492     |      0.918     |  0 hr 40 min\n",
            "val    24.0   11.0       |       0.006     |       0.541     |      0.921     |  0 hr 41 min\n",
            "train 601.0   12.0       |       0.012     |       0.541     |      0.921     |  0 hr 44 min\n",
            "val    24.0   12.0       |       0.012     |       0.515     |      0.914     |  0 hr 45 min\n",
            "train 601.0   13.0       |       0.007     |       0.515     |      0.914     |  0 hr 48 min\n",
            "val    24.0   13.0       |       0.007     |       0.556     |      0.917     |  0 hr 48 min\n",
            "train 601.0   14.0       |       0.003     |       0.556     |      0.917     |  0 hr 52 min\n",
            "val    24.0   14.0       |       0.003     |       0.528     |      0.918     |  0 hr 52 min\n",
            "train 601.0   15.0       |       0.003     |       0.528     |      0.918     |  0 hr 55 min\n",
            "val    24.0   15.0       |       0.003     |       0.538     |      0.919     |  0 hr 56 min\n",
            "train 601.0   16.0       |       0.006     |       0.538     |      0.919     |  0 hr 59 min\n",
            "val    24.0   16.0       |       0.006     |       0.464     |      0.927     |  1 hr 00 min\n",
            "train 601.0   17.0       |       0.001     |       0.464     |      0.927     |  1 hr 03 min\n",
            "val    24.0   17.0       |       0.001     |       0.564     |      0.920     |  1 hr 04 min\n",
            "train 601.0   18.0       |       0.001     |       0.564     |      0.920     |  1 hr 07 min\n",
            "val    24.0   18.0       |       0.001     |       0.515     |      0.922     |  1 hr 07 min\n",
            "train 601.0   19.0       |       0.001     |       0.515     |      0.922     |  1 hr 11 min\n",
            "val    24.0   19.0       |       0.001     |       0.528     |      0.923     |  1 hr 11 min\n",
            "train 601.0   20.0       |       0.002     |       0.528     |      0.923     |  1 hr 14 min\n",
            "val    24.0   20.0       |       0.002     |       0.552     |      0.922     |  1 hr 15 min\n",
            "train 601.0   21.0       |       0.001     |       0.552     |      0.922     |  1 hr 18 min\n",
            "val    24.0   21.0       |       0.001     |       0.537     |      0.922     |  1 hr 18 min\n",
            "train 601.0   22.0       |       0.001     |       0.537     |      0.922     |  1 hr 22 min\n",
            "val    24.0   22.0       |       0.001     |       0.513     |      0.924     |  1 hr 22 min\n",
            "train 601.0   23.0       |       0.000     |       0.513     |      0.924     |  1 hr 26 min\n",
            "val    24.0   23.0       |       0.000     |       0.512     |      0.928     |  1 hr 26 min\n",
            "train 601.0   24.0       |       0.000     |       0.512     |      0.928     |  1 hr 29 min\n",
            "val    24.0   24.0       |       0.000     |       0.517     |      0.927     |  1 hr 30 min\n",
            "train 601.0   25.0       |       0.000     |       0.517     |      0.927     |  1 hr 33 min\n",
            "val    24.0   25.0       |       0.000     |       0.514     |      0.929     |  1 hr 34 min\n",
            "train 601.0   26.0       |       0.000     |       0.514     |      0.929     |  1 hr 37 min\n",
            "val    24.0   26.0       |       0.000     |       0.523     |      0.923     |  1 hr 37 min\n",
            "train 601.0   27.0       |       0.000     |       0.523     |      0.923     |  1 hr 41 min\n",
            "val    24.0   27.0       |       0.000     |       0.545     |      0.923     |  1 hr 41 min\n",
            "train 601.0   28.0       |       0.000     |       0.545     |      0.923     |  1 hr 44 min\n",
            "val    24.0   28.0       |       0.000     |       0.537     |      0.924     |  1 hr 45 min\n",
            "train 601.0   29.0       |       0.000     |       0.537     |      0.924     |  1 hr 48 min\n",
            "val    24.0   29.0       |       0.000     |       0.544     |      0.923     |  1 hr 49 min\n",
            "train 601.0   30.0       |       0.000     |       0.544     |      0.923     |  1 hr 52 min\n",
            "val    24.0   30.0       |       0.000     |       0.573     |      0.918     |  1 hr 52 min\n",
            "train 601.0   31.0       |       0.000     |       0.573     |      0.918     |  1 hr 56 min\n",
            "val    24.0   31.0       |       0.000     |       0.604     |      0.917     |  1 hr 56 min\n",
            "train 601.0   32.0       |       0.000     |       0.604     |      0.917     |  1 hr 59 min\n",
            "val    24.0   32.0       |       0.000     |       0.557     |      0.921     |  2 hr 00 min\n",
            "train 601.0   33.0       |       0.000     |       0.557     |      0.921     |  2 hr 03 min\n",
            "val    24.0   33.0       |       0.000     |       0.502     |      0.925     |  2 hr 04 min\n",
            "train 601.0   34.0       |       0.000     |       0.502     |      0.925     |  2 hr 07 min\n",
            "val    24.0   34.0       |       0.000     |       0.532     |      0.925     |  2 hr 08 min\n",
            "train 601.0   35.0       |       0.000     |       0.532     |      0.925     |  2 hr 11 min\n",
            "val    24.0   35.0       |       0.000     |       0.545     |      0.925     |  2 hr 11 min\n",
            "train 601.0   36.0       |       0.000     |       0.545     |      0.925     |  2 hr 15 min\n",
            "val    24.0   36.0       |       0.000     |       0.545     |      0.925     |  2 hr 15 min\n",
            "val    24.0   36.0       |       0.000     |       0.545     |      0.925     |  2 hr 15 minFigure(1000x600)\n",
            "Figure(1000x600)\n"
          ]
        }
      ]
    },
    {
      "cell_type": "code",
      "source": [
        "!python3 \"/content/drive/MyDrive/Knives/test.py\""
      ],
      "metadata": {
        "colab": {
          "base_uri": "https://localhost:8080/"
        },
        "id": "3ao_t6paPYKD",
        "outputId": "46f6d334-3548-4e71-89bf-30c4ee5cc633"
      },
      "execution_count": null,
      "outputs": [
        {
          "output_type": "stream",
          "name": "stdout",
          "text": [
            "reading test file\n",
            "Creating test dataloader\n",
            "loading trained model\n",
            "Evaluating trained model\n",
            "mAP = tensor(0.6800, device='cuda:0')\n"
          ]
        }
      ]
    }
  ]
}