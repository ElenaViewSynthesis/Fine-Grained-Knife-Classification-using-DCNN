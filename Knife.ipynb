{
  "nbformat": 4,
  "nbformat_minor": 0,
  "metadata": {
    "colab": {
      "provenance": [],
      "gpuType": "T4"
    },
    "kernelspec": {
      "name": "python3",
      "display_name": "Python 3"
    },
    "language_info": {
      "name": "python"
    },
    "accelerator": "GPU"
  },
  "cells": [
    {
      "cell_type": "code",
      "execution_count": 1,
      "metadata": {
        "colab": {
          "base_uri": "https://localhost:8080/"
        },
        "id": "eWsc_sy10qVO",
        "outputId": "0dc9e8f7-0b6e-4dae-de63-95c250995046"
      },
      "outputs": [
        {
          "output_type": "stream",
          "name": "stdout",
          "text": [
            "Drive already mounted at /content/drive; to attempt to forcibly remount, call drive.mount(\"/content/drive\", force_remount=True).\n"
          ]
        }
      ],
      "source": [
        "#Google Drive Integration by mounting\n",
        "from google.colab import drive\n",
        "drive.mount(\"/content/drive\")\n",
        "\n",
        "#/content/drive/MyDrive/Knives/train.py\n",
        "\n",
        "#%cd '/content/drive/MyDrive/Knives'\n",
        "%matplotlib inline"
      ]
    },
    {
      "cell_type": "code",
      "source": [
        "#Install Required Packages\n",
        "!pip install -r \"/content/drive/MyDrive/Knives/requirements.txt\""
      ],
      "metadata": {
        "id": "5klQkFry95wQ"
      },
      "execution_count": null,
      "outputs": []
    },
    {
      "cell_type": "code",
      "source": [
        "!pip install grad-cam\n",
        "!pip install matplotlib"
      ],
      "metadata": {
        "id": "6kDqvJWXzC-O"
      },
      "execution_count": null,
      "outputs": []
    },
    {
      "cell_type": "code",
      "source": [
        "!python3 \"train.py\""
      ],
      "metadata": {
        "colab": {
          "base_uri": "https://localhost:8080/"
        },
        "id": "E2qyWccn4hoZ",
        "outputId": "ebaf862b-42eb-4f00-8810-cfb62761e76f"
      },
      "execution_count": null,
      "outputs": [
        {
          "output_type": "stream",
          "name": "stdout",
          "text": [
            "\n",
            "----------------------------------------------- [START 2023-11-26 19:18:04] ---------------------------------------------------\n",
            "\n",
            "                           |----- Train -----|----- Valid----|---------|\n",
            "mode     iter     epoch    |       loss      |        mAP    | time    |\n",
            "-------------------------------------------------------------------------------------------\n",
            "train 601.0    0.0        |      4.130     |      0.000     |  0 hr 07 min\n",
            "val    24.0    0.0       |      4.130     |      0.609    |  0 hr 08 min\n",
            "val    24.0    0.0       |      4.130     |      0.609    |  0 hr 08 min\n",
            "New best metric achieved: 0.6088749766349792\n",
            "train 601.0    1.0        |      1.575     |      0.609     |  0 hr 11 min\n",
            "val    24.0    1.0       |      1.575     |      0.869    |  0 hr 12 min\n",
            "train 601.0    2.0        |      0.499     |      0.869     |  0 hr 15 min\n",
            "val    24.0    2.0       |      0.499     |      0.907    |  0 hr 15 min\n",
            "train 601.0    3.0        |      0.198     |      0.907     |  0 hr 18 min\n",
            "val    24.0    3.0       |      0.198     |      0.916    |  0 hr 19 min\n",
            "train 601.0    4.0        |      0.100     |      0.916     |  0 hr 21 min\n",
            "val    24.0    4.0       |      0.100     |      0.916    |  0 hr 22 min\n",
            "train 601.0    5.0        |      0.060     |      0.916     |  0 hr 25 min\n",
            "val    24.0    5.0       |      0.060     |      0.918    |  0 hr 25 min\n",
            "train 601.0    6.0        |      0.040     |      0.918     |  0 hr 28 min\n",
            "val    24.0    6.0       |      0.040     |      0.913    |  0 hr 29 min\n",
            "train 601.0    7.0        |      0.029     |      0.913     |  0 hr 32 min\n",
            "val    24.0    7.0       |      0.029     |      0.917    |  0 hr 32 min\n",
            "train 601.0    8.0        |      0.023     |      0.917     |  0 hr 35 min\n",
            "val    24.0    8.0       |      0.023     |      0.921    |  0 hr 35 min\n",
            "train 601.0    9.0        |      0.017     |      0.921     |  0 hr 38 min\n",
            "val    24.0    9.0       |      0.017     |      0.921    |  0 hr 39 min\n",
            "train 601.0   10.0        |      0.013     |      0.921     |  0 hr 42 min\n",
            "val    24.0   10.0       |      0.013     |      0.924    |  0 hr 42 min\n",
            "train 601.0   11.0        |      0.010     |      0.924     |  0 hr 45 min\n",
            "val    24.0   11.0       |      0.010     |      0.918    |  0 hr 46 min\n",
            "train 601.0   12.0        |      0.009     |      0.918     |  0 hr 48 min\n",
            "val    24.0   12.0       |      0.009     |      0.925    |  0 hr 49 min\n",
            "train 601.0   13.0        |      0.009     |      0.925     |  0 hr 52 min\n",
            "val    24.0   13.0       |      0.009     |      0.920    |  0 hr 52 min\n",
            "train 601.0   14.0        |      0.008     |      0.920     |  0 hr 55 min\n",
            "val    24.0   14.0       |      0.008     |      0.924    |  0 hr 56 min\n",
            "train 601.0   15.0        |      0.006     |      0.924     |  0 hr 59 min\n",
            "val    24.0   15.0       |      0.006     |      0.922    |  0 hr 59 min\n",
            "train 601.0   16.0        |      0.006     |      0.922     |  1 hr 02 min\n",
            "val    24.0   16.0       |      0.006     |      0.919    |  1 hr 02 min\n",
            "train 601.0   17.0        |      0.006     |      0.919     |  1 hr 05 min\n",
            "val    24.0   17.0       |      0.006     |      0.924    |  1 hr 06 min\n",
            "train 601.0   18.0        |      0.006     |      0.924     |  1 hr 09 min\n",
            "val    24.0   18.0       |      0.006     |      0.919    |  1 hr 09 min\n",
            "train 601.0   19.0        |      0.006     |      0.919     |  1 hr 12 min\n",
            "val    24.0   19.0       |      0.006     |      0.921    |  1 hr 13 min\n",
            "val    24.0   19.0       |      0.006     |      0.921    |  1 hr 13 min"
          ]
        }
      ]
    },
    {
      "cell_type": "code",
      "source": [
        "!pip install tensorboard"
      ],
      "metadata": {
        "colab": {
          "base_uri": "https://localhost:8080/"
        },
        "id": "M8tr-xrF9VNu",
        "outputId": "e036e8eb-92a0-4fb8-d823-e6b59b11048b"
      },
      "execution_count": null,
      "outputs": [
        {
          "output_type": "stream",
          "name": "stdout",
          "text": [
            "Requirement already satisfied: tensorboard in /usr/local/lib/python3.10/dist-packages (2.14.1)\n",
            "Requirement already satisfied: absl-py>=0.4 in /usr/local/lib/python3.10/dist-packages (from tensorboard) (1.4.0)\n",
            "Requirement already satisfied: grpcio>=1.48.2 in /usr/local/lib/python3.10/dist-packages (from tensorboard) (1.59.2)\n",
            "Requirement already satisfied: google-auth<3,>=1.6.3 in /usr/local/lib/python3.10/dist-packages (from tensorboard) (2.17.3)\n",
            "Requirement already satisfied: google-auth-oauthlib<1.1,>=0.5 in /usr/local/lib/python3.10/dist-packages (from tensorboard) (1.0.0)\n",
            "Requirement already satisfied: markdown>=2.6.8 in /usr/local/lib/python3.10/dist-packages (from tensorboard) (3.5.1)\n",
            "Requirement already satisfied: numpy>=1.12.0 in /usr/local/lib/python3.10/dist-packages (from tensorboard) (1.21.5)\n",
            "Requirement already satisfied: protobuf>=3.19.6 in /usr/local/lib/python3.10/dist-packages (from tensorboard) (3.20.3)\n",
            "Requirement already satisfied: requests<3,>=2.21.0 in /usr/local/lib/python3.10/dist-packages (from tensorboard) (2.31.0)\n",
            "Requirement already satisfied: setuptools>=41.0.0 in /usr/local/lib/python3.10/dist-packages (from tensorboard) (67.7.2)\n",
            "Requirement already satisfied: six>1.9 in /usr/local/lib/python3.10/dist-packages (from tensorboard) (1.16.0)\n",
            "Requirement already satisfied: tensorboard-data-server<0.8.0,>=0.7.0 in /usr/local/lib/python3.10/dist-packages (from tensorboard) (0.7.2)\n",
            "Requirement already satisfied: werkzeug>=1.0.1 in /usr/local/lib/python3.10/dist-packages (from tensorboard) (3.0.1)\n",
            "Requirement already satisfied: cachetools<6.0,>=2.0.0 in /usr/local/lib/python3.10/dist-packages (from google-auth<3,>=1.6.3->tensorboard) (5.3.2)\n",
            "Requirement already satisfied: pyasn1-modules>=0.2.1 in /usr/local/lib/python3.10/dist-packages (from google-auth<3,>=1.6.3->tensorboard) (0.3.0)\n",
            "Requirement already satisfied: rsa<5,>=3.1.4 in /usr/local/lib/python3.10/dist-packages (from google-auth<3,>=1.6.3->tensorboard) (4.9)\n",
            "Requirement already satisfied: requests-oauthlib>=0.7.0 in /usr/local/lib/python3.10/dist-packages (from google-auth-oauthlib<1.1,>=0.5->tensorboard) (1.3.1)\n",
            "Requirement already satisfied: charset-normalizer<4,>=2 in /usr/local/lib/python3.10/dist-packages (from requests<3,>=2.21.0->tensorboard) (3.3.2)\n",
            "Requirement already satisfied: idna<4,>=2.5 in /usr/local/lib/python3.10/dist-packages (from requests<3,>=2.21.0->tensorboard) (3.4)\n",
            "Requirement already satisfied: urllib3<3,>=1.21.1 in /usr/local/lib/python3.10/dist-packages (from requests<3,>=2.21.0->tensorboard) (2.0.7)\n",
            "Requirement already satisfied: certifi>=2017.4.17 in /usr/local/lib/python3.10/dist-packages (from requests<3,>=2.21.0->tensorboard) (2023.7.22)\n",
            "Requirement already satisfied: MarkupSafe>=2.1.1 in /usr/local/lib/python3.10/dist-packages (from werkzeug>=1.0.1->tensorboard) (2.1.3)\n",
            "Requirement already satisfied: pyasn1<0.6.0,>=0.4.6 in /usr/local/lib/python3.10/dist-packages (from pyasn1-modules>=0.2.1->google-auth<3,>=1.6.3->tensorboard) (0.5.0)\n",
            "Requirement already satisfied: oauthlib>=3.0.0 in /usr/local/lib/python3.10/dist-packages (from requests-oauthlib>=0.7.0->google-auth-oauthlib<1.1,>=0.5->tensorboard) (3.2.2)\n"
          ]
        }
      ]
    },
    {
      "cell_type": "code",
      "source": [
        "!python3 \"/content/drive/MyDrive/Knives/train.py\"\n"
      ],
      "metadata": {
        "colab": {
          "base_uri": "https://localhost:8080/"
        },
        "id": "OUu4AGQlzF0O",
        "outputId": "932f5b65-11c9-4538-9578-c03df607acc3"
      },
      "execution_count": null,
      "outputs": [
        {
          "output_type": "stream",
          "name": "stdout",
          "text": [
            "\n",
            "----------------------------------------------- [START 2023-11-29 23:26:04] ---------------------------------------------------\n",
            "\n",
            "                              |----- Train ------|----- Valid----|------ Valid----|-----------|\n",
            "mode      iter       epoch    |       loss       |       loss    |        mAP     |    time   |\n",
            "-----------------------------------------------------------------------------------------------\n",
            "train 601.0    1.0       |       4.159     |       0.000     |      0.000     |  0 hr 02 min\n",
            "val    24.0    1.0       |       4.159     |      2.798     |      0.634    |  0 hr 03 min\n",
            "train 601.0    2.0       |       1.577     |       2.798     |      0.634     |  0 hr 05 min\n",
            "val    24.0    2.0       |       1.577     |      1.203     |      0.859    |  0 hr 06 min\n",
            "train 601.0    3.0       |       0.510     |       1.203     |      0.859     |  0 hr 09 min\n",
            "val    24.0    3.0       |       0.510     |      0.668     |      0.902    |  0 hr 09 min\n",
            "train 601.0    4.0       |       0.204     |       0.668     |      0.902     |  0 hr 12 min\n",
            "val    24.0    4.0       |       0.204     |      0.525     |      0.913    |  0 hr 12 min\n",
            "train 601.0    5.0       |       0.099     |       0.525     |      0.913     |  0 hr 15 min\n",
            "val    24.0    5.0       |       0.099     |      0.450     |      0.924    |  0 hr 15 min\n",
            "train 601.0    6.0       |       0.061     |       0.450     |      0.924     |  0 hr 18 min\n",
            "val    24.0    6.0       |       0.061     |      0.446     |      0.920    |  0 hr 19 min\n",
            "train 601.0    7.0       |       0.039     |       0.446     |      0.920     |  0 hr 21 min\n",
            "val    24.0    7.0       |       0.039     |      0.423     |      0.925    |  0 hr 22 min\n",
            "train 601.0    8.0       |       0.027     |       0.423     |      0.925     |  0 hr 25 min\n",
            "val    24.0    8.0       |       0.027     |      0.406     |      0.926    |  0 hr 25 min\n",
            "train 601.0    9.0       |       0.022     |       0.406     |      0.926     |  0 hr 28 min\n",
            "val    24.0    9.0       |       0.022     |      0.413     |      0.924    |  0 hr 29 min\n",
            "train 601.0   10.0       |       0.016     |       0.413     |      0.924     |  0 hr 31 min\n",
            "val    24.0   10.0       |       0.016     |      0.431     |      0.920    |  0 hr 32 min\n",
            "train 601.0   11.0       |       0.012     |       0.431     |      0.920     |  0 hr 35 min\n",
            "val    24.0   11.0       |       0.012     |      0.417     |      0.920    |  0 hr 35 min\n",
            "train 601.0   12.0       |       0.011     |       0.417     |      0.920     |  0 hr 38 min\n",
            "val    24.0   12.0       |       0.011     |      0.439     |      0.917    |  0 hr 38 min\n",
            "train 601.0   13.0       |       0.009     |       0.439     |      0.917     |  0 hr 41 min\n",
            "val    24.0   13.0       |       0.009     |      0.429     |      0.914    |  0 hr 42 min\n",
            "train 601.0   14.0       |       0.008     |       0.429     |      0.914     |  0 hr 44 min\n",
            "val    24.0   14.0       |       0.008     |      0.420     |      0.923    |  0 hr 45 min\n",
            "train 601.0   15.0       |       0.008     |       0.420     |      0.923     |  0 hr 48 min\n",
            "val    24.0   15.0       |       0.008     |      0.425     |      0.918    |  0 hr 48 min\n",
            "train 601.0   16.0       |       0.008     |       0.425     |      0.918     |  0 hr 51 min\n",
            "val    24.0   16.0       |       0.008     |      0.422     |      0.918    |  0 hr 51 min\n",
            "train 601.0   17.0       |       0.006     |       0.422     |      0.918     |  0 hr 54 min\n",
            "val    24.0   17.0       |       0.006     |      0.419     |      0.920    |  0 hr 55 min\n",
            "train 601.0   18.0       |       0.006     |       0.419     |      0.920     |  0 hr 57 min\n",
            "val    24.0   18.0       |       0.006     |      0.437     |      0.917    |  0 hr 58 min\n",
            "train 601.0   19.0       |       0.006     |       0.437     |      0.917     |  1 hr 00 min\n",
            "val    24.0   19.0       |       0.006     |      0.416     |      0.924    |  1 hr 01 min\n",
            "train 601.0   20.0       |       0.005     |       0.416     |      0.924     |  1 hr 04 min\n",
            "val    24.0   20.0       |       0.005     |      0.415     |      0.921    |  1 hr 04 min\n",
            "val    24.0   20.0       |       0.005     |      0.415     |      0.921    |  1 hr 04 minTraceback (most recent call last):\n",
            "  File \"/content/drive/MyDrive/Knives/train.py\", line 325, in <module>\n",
            "    os.mkdir(f\"./FinalPlots/{model_variant_name}/{modification_num}\")\n",
            "FileNotFoundError: [Errno 2] No such file or directory: './FinalPlots/tf_efficientnet_b0/1'\n"
          ]
        }
      ]
    },
    {
      "cell_type": "code",
      "source": [
        "#tensorboard --logdir=runs\n"
      ],
      "metadata": {
        "id": "5hj_yaOe8-X9"
      },
      "execution_count": null,
      "outputs": []
    },
    {
      "cell_type": "code",
      "source": [
        "!python3 \"/content/drive/MyDrive/Knives/train.py\""
      ],
      "metadata": {
        "colab": {
          "base_uri": "https://localhost:8080/"
        },
        "id": "5N-8YhPIry_9",
        "outputId": "7ff731cf-4a50-4b48-f368-f751f7c8fc6d"
      },
      "execution_count": null,
      "outputs": [
        {
          "output_type": "stream",
          "name": "stdout",
          "text": [
            "\n",
            "----------------------------------------------- [START 2023-11-30 00:44:51] ---------------------------------------------------\n",
            "\n",
            "                              |----- Train ------|----- Valid----|------ Valid----|-----------|\n",
            "mode      iter       epoch    |       loss       |       loss    |        mAP     |    time   |\n",
            "-----------------------------------------------------------------------------------------------\n",
            "train 601.0    1.0       |       4.092     |       0.000     |      0.000     |  0 hr 02 min\n",
            "val    24.0    1.0       |       4.092     |      2.777      |      0.622     |  0 hr 03 min\n",
            "train 601.0    2.0       |       1.525     |       2.777     |      0.622     |  0 hr 06 min\n",
            "val    24.0    2.0       |       1.525     |      1.105      |      0.877     |  0 hr 06 min\n",
            "train 601.0    3.0       |       0.493     |       1.105     |      0.877     |  0 hr 09 min\n",
            "val    24.0    3.0       |       0.493     |      0.625      |      0.916     |  0 hr 09 min\n",
            "train 601.0    4.0       |       0.196     |       0.625     |      0.916     |  0 hr 12 min\n",
            "val    24.0    4.0       |       0.196     |      0.525      |      0.919     |  0 hr 13 min\n",
            "train 601.0    5.0       |       0.099     |       0.525     |      0.919     |  0 hr 15 min\n",
            "val    24.0    5.0       |       0.099     |      0.486      |      0.922     |  0 hr 16 min\n",
            "train 601.0    6.0       |       0.058     |       0.486     |      0.922     |  0 hr 19 min\n",
            "val    24.0    6.0       |       0.058     |      0.471      |      0.918     |  0 hr 19 min\n",
            "train 601.0    7.0       |       0.038     |       0.471     |      0.918     |  0 hr 22 min\n",
            "val    24.0    7.0       |       0.038     |      0.443      |      0.923     |  0 hr 22 min\n",
            "train 601.0    8.0       |       0.028     |       0.443     |      0.923     |  0 hr 25 min\n",
            "val    24.0    8.0       |       0.028     |      0.450      |      0.920     |  0 hr 26 min\n",
            "train 601.0    9.0       |       0.021     |       0.450     |      0.920     |  0 hr 28 min\n",
            "val    24.0    9.0       |       0.021     |      0.449      |      0.922     |  0 hr 29 min\n",
            "train 601.0   10.0       |       0.017     |       0.449     |      0.922     |  0 hr 32 min\n",
            "val    24.0   10.0       |       0.017     |      0.439      |      0.922     |  0 hr 32 min\n",
            "train 601.0   11.0       |       0.013     |       0.439     |      0.922     |  0 hr 35 min\n",
            "val    24.0   11.0       |       0.013     |      0.421      |      0.924     |  0 hr 35 min\n",
            "train 601.0   12.0       |       0.010     |       0.421     |      0.924     |  0 hr 38 min\n",
            "val    24.0   12.0       |       0.010     |      0.418      |      0.924     |  0 hr 39 min\n",
            "train 601.0   13.0       |       0.009     |       0.418     |      0.924     |  0 hr 41 min\n",
            "val    24.0   13.0       |       0.009     |      0.442      |      0.922     |  0 hr 42 min\n",
            "train 601.0   14.0       |       0.008     |       0.442     |      0.922     |  0 hr 45 min\n",
            "val    24.0   14.0       |       0.008     |      0.426      |      0.926     |  0 hr 45 min\n",
            "train 601.0   15.0       |       0.007     |       0.426     |      0.926     |  0 hr 48 min\n",
            "val    24.0   15.0       |       0.007     |      0.432      |      0.926     |  0 hr 48 min\n",
            "train 601.0   16.0       |       0.007     |       0.432     |      0.926     |  0 hr 51 min\n",
            "val    24.0   16.0       |       0.007     |      0.417      |      0.928     |  0 hr 52 min\n",
            "train  47.0   17.0       |       0.005     |       0.417     |      0.928     |  0 hr 52 min"
          ]
        }
      ]
    },
    {
      "cell_type": "code",
      "source": [
        "!python3 \"/content/drive/MyDrive/Knives/train.py\"\n",
        "# batch=32 | epochs = 15 | learning rate = 0.0001"
      ],
      "metadata": {
        "colab": {
          "base_uri": "https://localhost:8080/"
        },
        "id": "SJdv7ZG67xgN",
        "outputId": "79ef8769-85c4-4695-b3a1-e88eeea08c86"
      },
      "execution_count": 4,
      "outputs": [
        {
          "output_type": "stream",
          "name": "stdout",
          "text": [
            "\n",
            "----------------------------------------------- [START 2023-12-12 16:46:53] ---------------------------------------------------\n",
            "\n",
            "                              |----- Train ------|----- Valid----|------ Valid----|-----------|\n",
            "mode      iter       epoch    |       loss       |       loss    |        mAP     |    time   |\n",
            "-----------------------------------------------------------------------------------------------\n",
            "Downloading: \"https://github.com/rwightman/pytorch-image-models/releases/download/v0.1-weights/tf_efficientnet_b0_aa-827b6e33.pth\" to /root/.cache/torch/hub/checkpoints/tf_efficientnet_b0_aa-827b6e33.pth\n",
            "train 300.0    1.0       |       3.509     |       0.000     |      0.000     |  0 hr 07 min\n",
            "val    12.0    1.0       |       3.509     |       1.930     |      0.749     |  0 hr 08 min\n",
            "train 300.0    2.0       |       0.676     |       1.930     |      0.749     |  0 hr 10 min\n",
            "val    12.0    2.0       |       0.676     |       0.736     |      0.902     |  0 hr 11 min\n",
            "train 300.0    3.0       |       0.151     |       0.736     |      0.902     |  0 hr 13 min\n",
            "val    12.0    3.0       |       0.151     |       0.591     |      0.907     |  0 hr 14 min\n",
            "train 300.0    4.0       |       0.062     |       0.591     |      0.907     |  0 hr 16 min\n",
            "val    12.0    4.0       |       0.062     |       0.553     |      0.907     |  0 hr 17 min\n",
            "train 300.0    5.0       |       0.035     |       0.553     |      0.907     |  0 hr 19 min\n",
            "val    12.0    5.0       |       0.035     |       0.513     |      0.918     |  0 hr 20 min\n",
            "train 300.0    6.0       |       0.025     |       0.513     |      0.918     |  0 hr 22 min\n",
            "val    12.0    6.0       |       0.025     |       0.513     |      0.914     |  0 hr 23 min\n",
            "train 300.0    7.0       |       0.017     |       0.513     |      0.914     |  0 hr 25 min\n",
            "val    12.0    7.0       |       0.017     |       0.507     |      0.912     |  0 hr 26 min\n",
            "train 300.0    8.0       |       0.015     |       0.507     |      0.912     |  0 hr 28 min\n",
            "val    12.0    8.0       |       0.015     |       0.494     |      0.918     |  0 hr 29 min\n",
            "train 300.0    9.0       |       0.012     |       0.494     |      0.918     |  0 hr 31 min\n",
            "val    12.0    9.0       |       0.012     |       0.470     |      0.923     |  0 hr 32 min\n",
            "train 300.0   10.0       |       0.010     |       0.470     |      0.923     |  0 hr 34 min\n",
            "val    12.0   10.0       |       0.010     |       0.489     |      0.915     |  0 hr 35 min\n",
            "train 300.0   11.0       |       0.009     |       0.489     |      0.915     |  0 hr 37 min\n",
            "val    12.0   11.0       |       0.009     |       0.491     |      0.914     |  0 hr 38 min\n",
            "train 300.0   12.0       |       0.008     |       0.491     |      0.914     |  0 hr 40 min\n",
            "val    12.0   12.0       |       0.008     |       0.501     |      0.915     |  0 hr 41 min\n",
            "train 300.0   13.0       |       0.007     |       0.501     |      0.915     |  0 hr 43 min\n",
            "val    12.0   13.0       |       0.007     |       0.498     |      0.916     |  0 hr 44 min\n",
            "train 300.0   14.0       |       0.007     |       0.498     |      0.916     |  0 hr 46 min\n",
            "val    12.0   14.0       |       0.007     |       0.501     |      0.915     |  0 hr 47 min\n",
            "train 300.0   15.0       |       0.007     |       0.501     |      0.915     |  0 hr 49 min\n",
            "val    12.0   15.0       |       0.007     |       0.500     |      0.915     |  0 hr 50 min\n",
            "val    12.0   15.0       |       0.007     |       0.500     |      0.915     |  0 hr 50 minFigure(1000x600)\n",
            "Figure(1000x600)\n"
          ]
        }
      ]
    },
    {
      "cell_type": "code",
      "source": [
        "!python3 \"/content/drive/MyDrive/Knives/test.py\""
      ],
      "metadata": {
        "id": "AiJYcoVU5229",
        "colab": {
          "base_uri": "https://localhost:8080/"
        },
        "outputId": "ec90d3ca-355c-4a39-ba91-7cb5562fb968"
      },
      "execution_count": 6,
      "outputs": [
        {
          "output_type": "stream",
          "name": "stdout",
          "text": [
            "reading test file\n",
            "Creating test dataloader\n",
            "loading trained model\n",
            "Evaluating trained model\n",
            "mAP = tensor(0.6180, device='cuda:0')\n"
          ]
        }
      ]
    },
    {
      "cell_type": "code",
      "source": [],
      "metadata": {
        "id": "NvPJkvXvJim0"
      },
      "execution_count": null,
      "outputs": []
    },
    {
      "cell_type": "code",
      "source": [
        "!python3 \"/content/drive/MyDrive/Knives/train.py\"\n",
        "# B0 -> batch = 64 | epochs = 20 | learning rate = 0.001"
      ],
      "metadata": {
        "colab": {
          "base_uri": "https://localhost:8080/"
        },
        "outputId": "e4fd8927-94e7-4f8e-adfc-0a298261beef",
        "id": "TtqcRAonJdUP"
      },
      "execution_count": 7,
      "outputs": [
        {
          "output_type": "stream",
          "name": "stdout",
          "text": [
            "\n",
            "----------------------------------------------- [START 2023-12-12 17:51:33] ---------------------------------------------------\n",
            "\n",
            "                              |----- Train ------|----- Valid----|------ Valid----|-----------|\n",
            "mode      iter       epoch    |       loss       |       loss    |        mAP     |    time   |\n",
            "-----------------------------------------------------------------------------------------------\n",
            "train 150.0    1.0       |       1.045     |       0.000     |      0.000     |  0 hr 02 min\n",
            "val     6.0    1.0       |       1.045     |       0.513     |      0.911     |  0 hr 02 min\n",
            "train 150.0    2.0       |       0.030     |       0.513     |      0.911     |  0 hr 05 min\n",
            "val     6.0    2.0       |       0.030     |       0.564     |      0.903     |  0 hr 05 min\n",
            "train 150.0    3.0       |       0.024     |       0.564     |      0.903     |  0 hr 07 min\n",
            "val     6.0    3.0       |       0.024     |       0.567     |      0.906     |  0 hr 08 min\n",
            "train 150.0    4.0       |       0.048     |       0.567     |      0.906     |  0 hr 10 min\n",
            "val     6.0    4.0       |       0.048     |       0.702     |      0.896     |  0 hr 11 min\n",
            "train 150.0    5.0       |       0.028     |       0.702     |      0.896     |  0 hr 13 min\n",
            "val     6.0    5.0       |       0.028     |       0.548     |      0.910     |  0 hr 13 min\n",
            "train 150.0    6.0       |       0.014     |       0.548     |      0.910     |  0 hr 16 min\n",
            "val     6.0    6.0       |       0.014     |       0.497     |      0.913     |  0 hr 16 min\n",
            "train 150.0    7.0       |       0.011     |       0.497     |      0.913     |  0 hr 18 min\n",
            "val     6.0    7.0       |       0.011     |       0.611     |      0.910     |  0 hr 19 min\n",
            "train 150.0    8.0       |       0.005     |       0.611     |      0.910     |  0 hr 21 min\n",
            "val     6.0    8.0       |       0.005     |       0.605     |      0.911     |  0 hr 22 min\n",
            "train 150.0    9.0       |       0.001     |       0.605     |      0.911     |  0 hr 24 min\n",
            "val     6.0    9.0       |       0.001     |       0.618     |      0.911     |  0 hr 25 min\n",
            "train 150.0   10.0       |       0.002     |       0.618     |      0.911     |  0 hr 27 min\n",
            "val     6.0   10.0       |       0.002     |       0.589     |      0.912     |  0 hr 27 min\n",
            "train 150.0   11.0       |       0.001     |       0.589     |      0.912     |  0 hr 30 min\n",
            "val     6.0   11.0       |       0.001     |       0.600     |      0.914     |  0 hr 30 min\n",
            "train 150.0   12.0       |       0.000     |       0.600     |      0.914     |  0 hr 32 min\n",
            "val     6.0   12.0       |       0.000     |       0.578     |      0.915     |  0 hr 33 min\n",
            "train 150.0   13.0       |       0.000     |       0.578     |      0.915     |  0 hr 35 min\n",
            "val     6.0   13.0       |       0.000     |       0.587     |      0.916     |  0 hr 36 min\n",
            "train 150.0   14.0       |       0.000     |       0.587     |      0.916     |  0 hr 38 min\n",
            "val     6.0   14.0       |       0.000     |       0.574     |      0.916     |  0 hr 39 min\n",
            "train 150.0   15.0       |       0.000     |       0.574     |      0.916     |  0 hr 41 min\n",
            "val     6.0   15.0       |       0.000     |       0.548     |      0.921     |  0 hr 41 min\n",
            "train 150.0   16.0       |       0.000     |       0.548     |      0.921     |  0 hr 44 min\n",
            "val     6.0   16.0       |       0.000     |       0.552     |      0.919     |  0 hr 44 min\n",
            "train 150.0   17.0       |       0.000     |       0.552     |      0.919     |  0 hr 47 min\n",
            "val     6.0   17.0       |       0.000     |       0.589     |      0.914     |  0 hr 47 min\n",
            "train 150.0   18.0       |       0.000     |       0.589     |      0.914     |  0 hr 49 min\n",
            "val     6.0   18.0       |       0.000     |       0.597     |      0.916     |  0 hr 50 min\n",
            "train 150.0   19.0       |       0.000     |       0.597     |      0.916     |  0 hr 52 min\n",
            "val     6.0   19.0       |       0.000     |       0.579     |      0.918     |  0 hr 53 min\n",
            "train 150.0   20.0       |       0.000     |       0.579     |      0.918     |  0 hr 55 min\n",
            "val     6.0   20.0       |       0.000     |       0.568     |      0.917     |  0 hr 55 min\n",
            "val     6.0   20.0       |       0.000     |       0.568     |      0.917     |  0 hr 55 minFigure(1000x600)\n",
            "Figure(1000x600)\n"
          ]
        }
      ]
    },
    {
      "cell_type": "code",
      "source": [
        "!python3 \"/content/drive/MyDrive/Knives/test.py\""
      ],
      "metadata": {
        "colab": {
          "base_uri": "https://localhost:8080/"
        },
        "id": "FnA9LE86JcQt",
        "outputId": "4a8b260c-514b-4bea-b9ca-54027a3c4d17"
      },
      "execution_count": 8,
      "outputs": [
        {
          "output_type": "stream",
          "name": "stdout",
          "text": [
            "reading test file\n",
            "Creating test dataloader\n",
            "loading trained model\n",
            "Evaluating trained model\n",
            "mAP = tensor(0.6231, device='cuda:0')\n"
          ]
        }
      ]
    },
    {
      "cell_type": "code",
      "source": [
        "!python3 \"/content/drive/MyDrive/Knives/train.py\"\n",
        "# B0 ->  batch = 48 | epochs = 20 | learning rate = 0.0005"
      ],
      "metadata": {
        "colab": {
          "base_uri": "https://localhost:8080/"
        },
        "id": "s0rBh4Elb9BY",
        "outputId": "a93fc886-7065-4d63-fe07-fadccf9a4579"
      },
      "execution_count": 9,
      "outputs": [
        {
          "output_type": "stream",
          "name": "stdout",
          "text": [
            "\n",
            "----------------------------------------------- [START 2023-12-12 19:10:22] ---------------------------------------------------\n",
            "\n",
            "                              |----- Train ------|----- Valid----|------ Valid----|-----------|\n",
            "mode      iter       epoch    |       loss       |       loss    |        mAP     |    time   |\n",
            "-----------------------------------------------------------------------------------------------\n",
            "train 200.0    1.0       |       1.429     |       0.000     |      0.000     |  0 hr 02 min\n",
            "val     8.0    1.0       |       1.429     |       0.557     |      0.908     |  0 hr 02 min\n",
            "train 200.0    2.0       |       0.035     |       0.557     |      0.908     |  0 hr 04 min\n",
            "val     8.0    2.0       |       0.035     |       0.495     |      0.915     |  0 hr 05 min\n",
            "train 200.0    3.0       |       0.012     |       0.495     |      0.915     |  0 hr 07 min\n",
            "val     8.0    3.0       |       0.012     |       0.499     |      0.914     |  0 hr 08 min\n",
            "train 200.0    4.0       |       0.016     |       0.499     |      0.914     |  0 hr 10 min\n",
            "val     8.0    4.0       |       0.016     |       0.500     |      0.916     |  0 hr 10 min\n",
            "train 200.0    5.0       |       0.006     |       0.500     |      0.916     |  0 hr 12 min\n",
            "val     8.0    5.0       |       0.006     |       0.527     |      0.915     |  0 hr 13 min\n",
            "train 200.0    6.0       |       0.003     |       0.527     |      0.915     |  0 hr 15 min\n",
            "val     8.0    6.0       |       0.003     |       0.523     |      0.914     |  0 hr 16 min\n",
            "train 200.0    7.0       |       0.002     |       0.523     |      0.914     |  0 hr 18 min\n",
            "val     8.0    7.0       |       0.002     |       0.525     |      0.915     |  0 hr 18 min\n",
            "train 200.0    8.0       |       0.001     |       0.525     |      0.915     |  0 hr 21 min\n",
            "val     8.0    8.0       |       0.001     |       0.504     |      0.919     |  0 hr 21 min\n",
            "train 200.0    9.0       |       0.006     |       0.504     |      0.919     |  0 hr 23 min\n",
            "val     8.0    9.0       |       0.006     |       0.583     |      0.911     |  0 hr 24 min\n",
            "train 200.0   10.0       |       0.012     |       0.583     |      0.911     |  0 hr 26 min\n",
            "val     8.0   10.0       |       0.012     |       0.477     |      0.920     |  0 hr 26 min\n",
            "train 200.0   11.0       |       0.007     |       0.477     |      0.920     |  0 hr 29 min\n",
            "val     8.0   11.0       |       0.007     |       0.509     |      0.916     |  0 hr 29 min\n",
            "train 200.0   12.0       |       0.002     |       0.509     |      0.916     |  0 hr 31 min\n",
            "val     8.0   12.0       |       0.002     |       0.519     |      0.914     |  0 hr 32 min\n",
            "train 200.0   13.0       |       0.001     |       0.519     |      0.914     |  0 hr 34 min\n",
            "val     8.0   13.0       |       0.001     |       0.488     |      0.923     |  0 hr 35 min\n",
            "train 200.0   14.0       |       0.001     |       0.488     |      0.923     |  0 hr 37 min\n",
            "val     8.0   14.0       |       0.001     |       0.517     |      0.924     |  0 hr 37 min\n",
            "train 200.0   15.0       |       0.001     |       0.517     |      0.924     |  0 hr 40 min\n",
            "val     8.0   15.0       |       0.001     |       0.493     |      0.926     |  0 hr 40 min\n",
            "train 200.0   16.0       |       0.001     |       0.493     |      0.926     |  0 hr 42 min\n",
            "val     8.0   16.0       |       0.001     |       0.509     |      0.919     |  0 hr 43 min\n",
            "train 200.0   17.0       |       0.001     |       0.509     |      0.919     |  0 hr 45 min\n",
            "val     8.0   17.0       |       0.001     |       0.521     |      0.915     |  0 hr 46 min\n",
            "train 200.0   18.0       |       0.000     |       0.521     |      0.915     |  0 hr 48 min\n",
            "val     8.0   18.0       |       0.000     |       0.504     |      0.925     |  0 hr 48 min\n",
            "train 200.0   19.0       |       0.001     |       0.504     |      0.925     |  0 hr 51 min\n",
            "val     8.0   19.0       |       0.001     |       0.505     |      0.919     |  0 hr 51 min\n",
            "train 200.0   20.0       |       0.001     |       0.505     |      0.919     |  0 hr 53 min\n",
            "val     8.0   20.0       |       0.001     |       0.502     |      0.926     |  0 hr 54 min\n",
            "val     8.0   20.0       |       0.001     |       0.502     |      0.926     |  0 hr 54 minFigure(1000x600)\n",
            "Figure(1000x600)\n"
          ]
        }
      ]
    },
    {
      "cell_type": "code",
      "source": [
        "!python3 \"/content/drive/MyDrive/Knives/test.py\""
      ],
      "metadata": {
        "colab": {
          "base_uri": "https://localhost:8080/"
        },
        "id": "zOahZPEOo2vN",
        "outputId": "83231e65-ac1a-42da-d45a-29372d3bfd98"
      },
      "execution_count": 10,
      "outputs": [
        {
          "output_type": "stream",
          "name": "stdout",
          "text": [
            "reading test file\n",
            "Creating test dataloader\n",
            "loading trained model\n",
            "Evaluating trained model\n",
            "mAP = tensor(0.6365, device='cuda:0')\n"
          ]
        }
      ]
    },
    {
      "cell_type": "code",
      "source": [
        "!python3 \"/content/drive/MyDrive/Knives/train.py\"\n",
        "# B6 ->  batch = 48 | epochs = 40 | learning rate = 0.0005"
      ],
      "metadata": {
        "colab": {
          "base_uri": "https://localhost:8080/"
        },
        "id": "NC_X_4wop8Ef",
        "outputId": "a14e0a03-b243-414a-d0e6-8fc1a42c981c"
      },
      "execution_count": 11,
      "outputs": [
        {
          "output_type": "stream",
          "name": "stdout",
          "text": [
            "\n",
            "----------------------------------------------- [START 2023-12-12 20:11:39] ---------------------------------------------------\n",
            "\n",
            "                              |----- Train ------|----- Valid----|------ Valid----|-----------|\n",
            "mode      iter       epoch    |       loss       |       loss    |        mAP     |    time   |\n",
            "-----------------------------------------------------------------------------------------------\n",
            "Downloading: \"https://github.com/rwightman/pytorch-image-models/releases/download/v0.1-weights/tf_efficientnet_b6_aa-80ba17e4.pth\" to /root/.cache/torch/hub/checkpoints/tf_efficientnet_b6_aa-80ba17e4.pth\n",
            "train 200.0    1.0       |       0.840     |       0.000     |      0.000     |  0 hr 03 min\n",
            "val     8.0    1.0       |       0.840     |       0.365     |      0.935     |  0 hr 03 min\n",
            "train 200.0    2.0       |       0.029     |       0.365     |      0.935     |  0 hr 07 min\n",
            "val     8.0    2.0       |       0.029     |       0.416     |      0.928     |  0 hr 07 min\n",
            "train 200.0    3.0       |       0.073     |       0.416     |      0.928     |  0 hr 11 min\n",
            "val     8.0    3.0       |       0.073     |       0.457     |      0.920     |  0 hr 11 min\n",
            "train 200.0    4.0       |       0.034     |       0.457     |      0.920     |  0 hr 15 min\n",
            "val     8.0    4.0       |       0.034     |       0.539     |      0.915     |  0 hr 15 min\n",
            "train 200.0    5.0       |       0.047     |       0.539     |      0.915     |  0 hr 19 min\n",
            "val     8.0    5.0       |       0.047     |       0.552     |      0.917     |  0 hr 19 min\n",
            "train 200.0    6.0       |       0.043     |       0.552     |      0.917     |  0 hr 23 min\n",
            "val     8.0    6.0       |       0.043     |       0.491     |      0.921     |  0 hr 23 min\n",
            "train 200.0    7.0       |       0.006     |       0.491     |      0.921     |  0 hr 27 min\n",
            "val     8.0    7.0       |       0.006     |       0.453     |      0.928     |  0 hr 27 min\n",
            "train  72.0    8.0       |       0.002     |       0.453     |      0.928     |  0 hr 29 minFailed to read image at path: /content/drive/My Drive/Knives/./Train/Mora_Classic_1891_Fillet_Knife_19cm7/IMG_4202_yr.JPEG\n",
            "[ WARN:0@1763.416] global loadsave.cpp:244 findDecoder imread_('/content/drive/My Drive/Knives/./Train/Mora_Precision_Knife_Stainless/PXL_20221202_104337657_yr.jpg'): can't open/read file: check file path/integrity\n",
            "Failed to read image at path: /content/drive/My Drive/Knives/./Train/Mora_Precision_Knife_Stainless/PXL_20221202_104337657_yr.jpg\n",
            "train  73.0    8.0       |       0.002     |       0.453     |      0.928     |  0 hr 29 min[ WARN:0@1763.540] global loadsave.cpp:244 findDecoder imread_('/content/drive/My Drive/Knives/./Train/Genuine_British_Army_Knife/Screenshot 2023-09-26 113232_yr2.png'): can't open/read file: check file path/integrity\n",
            "Failed to read image at path: /content/drive/My Drive/Knives/./Train/Genuine_British_Army_Knife/Screenshot 2023-09-26 113232_yr2.png\n",
            "train  74.0    8.0       |       0.002     |       0.453     |      0.928     |  0 hr 29 min[ WARN:0@1764.647] global loadsave.cpp:244 findDecoder imread_('/content/drive/My Drive/Knives/./Train/Grizzly_Bushcraft_Pocket_Buddy_Camo_Knife/PXL_20221202_113142631_br.jpg'): can't open/read file: check file path/integrity\n",
            "Failed to read image at path: /content/drive/My Drive/Knives/./Train/Grizzly_Bushcraft_Pocket_Buddy_Camo_Knife/PXL_20221202_113142631_br.jpg\n",
            "train  75.0    8.0       |       0.002     |       0.453     |      0.928     |  0 hr 29 min[ WARN:0@1765.687] global loadsave.cpp:244 findDecoder imread_('/content/drive/My Drive/Knives/./Train/Mora_105_Wood_Carving_Knife/DSC_0187_cn.JPG'): can't open/read file: check file path/integrity\n",
            "Failed to read image at path: /content/drive/My Drive/Knives/./Train/Mora_105_Wood_Carving_Knife/DSC_0187_cn.JPG\n",
            "train  76.0    8.0       |       0.002     |       0.453     |      0.928     |  0 hr 29 min[ WARN:0@1766.735] global loadsave.cpp:244 findDecoder imread_('/content/drive/My Drive/Knives/./Train/Expendables_Style_Toothpick_Knife/IMG_4006_cn.JPEG'): can't open/read file: check file path/integrity\n",
            "Failed to read image at path: /content/drive/My Drive/Knives/./Train/Expendables_Style_Toothpick_Knife/IMG_4006_cn.JPEG\n",
            "train  77.0    8.0       |       0.002     |       0.453     |      0.928     |  0 hr 29 min[ WARN:0@1768.081] global loadsave.cpp:244 findDecoder imread_('/content/drive/My Drive/Knives/./Train/Opinel_Apple_Green_7VRI_Knife_Pomme/PXL_20221202_121451103_xr.jpg'): can't open/read file: check file path/integrity\n",
            "Failed to read image at path: /content/drive/My Drive/Knives/./Train/Opinel_Apple_Green_7VRI_Knife_Pomme/PXL_20221202_121451103_xr.jpg\n",
            "train 103.0    8.0       |       0.001     |       0.453     |      0.928     |  0 hr 29 minTraceback (most recent call last):\n",
            "  File \"/content/drive/MyDrive/Knives/train.py\", line 244, in <module>\n",
            "    train_metrics = train(train_loader, model, criterion, optimizer, epoch, val_metrics, start)\n",
            "  File \"/content/drive/MyDrive/Knives/train.py\", line 48, in train\n",
            "    for i, (images, target, fnames) in enumerate(train_loader):\n",
            "  File \"/usr/local/lib/python3.10/dist-packages/torch/utils/data/dataloader.py\", line 681, in __next__\n",
            "    data = self._next_data()\n",
            "  File \"/usr/local/lib/python3.10/dist-packages/torch/utils/data/dataloader.py\", line 1376, in _next_data\n",
            "    return self._process_data(data)\n",
            "  File \"/usr/local/lib/python3.10/dist-packages/torch/utils/data/dataloader.py\", line 1402, in _process_data\n",
            "    data.reraise()\n",
            "  File \"/usr/local/lib/python3.10/dist-packages/torch/_utils.py\", line 461, in reraise\n",
            "    raise exception\n",
            "TypeError: Caught TypeError in DataLoader worker process 8.\n",
            "Original Traceback (most recent call last):\n",
            "  File \"/usr/local/lib/python3.10/dist-packages/torch/utils/data/_utils/worker.py\", line 302, in _worker_loop\n",
            "    data = fetcher.fetch(index)\n",
            "  File \"/usr/local/lib/python3.10/dist-packages/torch/utils/data/_utils/fetch.py\", line 49, in fetch\n",
            "    data = [self.dataset[idx] for idx in possibly_batched_index]\n",
            "  File \"/usr/local/lib/python3.10/dist-packages/torch/utils/data/_utils/fetch.py\", line 49, in <listcomp>\n",
            "    data = [self.dataset[idx] for idx in possibly_batched_index]\n",
            "  File \"/content/drive/MyDrive/Knives/data.py\", line 41, in __getitem__\n",
            "  File \"/usr/local/lib/python3.10/dist-packages/torchvision/transforms/transforms.py\", line 94, in __call__\n",
            "    img = t(img)\n",
            "  File \"/usr/local/lib/python3.10/dist-packages/torchvision/transforms/transforms.py\", line 226, in __call__\n",
            "    return F.to_pil_image(pic, self.mode)\n",
            "  File \"/usr/local/lib/python3.10/dist-packages/torchvision/transforms/functional.py\", line 259, in to_pil_image\n",
            "    raise TypeError(f\"pic should be Tensor or ndarray. Got {type(pic)}.\")\n",
            "TypeError: pic should be Tensor or ndarray. Got <class 'NoneType'>.\n",
            "\n"
          ]
        }
      ]
    }
  ]
}