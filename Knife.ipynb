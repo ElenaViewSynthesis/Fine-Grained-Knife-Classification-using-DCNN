{
  "nbformat": 4,
  "nbformat_minor": 0,
  "metadata": {
    "colab": {
      "provenance": [],
      "gpuType": "T4",
      "mount_file_id": "1Rq6wEqzyVxw7y6WzspLM3usC11CzdE9b",
      "authorship_tag": "ABX9TyPEH2n97TV0rNTCOTKoopF0",
      "include_colab_link": true
    },
    "kernelspec": {
      "name": "python3",
      "display_name": "Python 3"
    },
    "language_info": {
      "name": "python"
    },
    "accelerator": "GPU"
  },
  "cells": [
    {
      "cell_type": "markdown",
      "metadata": {
        "id": "view-in-github",
        "colab_type": "text"
      },
      "source": [
        "<a href=\"https://colab.research.google.com/github/randomHersey/Fine-Grained-Knife-Classification-using-DCNN/blob/training/Knife.ipynb\" target=\"_parent\"><img src=\"https://colab.research.google.com/assets/colab-badge.svg\" alt=\"Open In Colab\"/></a>"
      ]
    },
    {
      "cell_type": "code",
      "execution_count": null,
      "metadata": {
        "colab": {
          "base_uri": "https://localhost:8080/"
        },
        "id": "eWsc_sy10qVO",
        "outputId": "843b7ad0-1f89-4488-9e07-c86b2c35fb5d"
      },
      "outputs": [
        {
          "output_type": "stream",
          "name": "stdout",
          "text": [
            "Drive already mounted at /content/drive; to attempt to forcibly remount, call drive.mount(\"/content/drive\", force_remount=True).\n"
          ]
        }
      ],
      "source": [
        "#Google Drive Integration by mounting\n",
        "from google.colab import drive\n",
        "drive.mount(\"/content/drive\")\n",
        "\n",
        "#/content/drive/MyDrive/Knives/train.py"
      ]
    },
    {
      "cell_type": "code",
      "source": [
        "#Install Required Packages\n",
        "!pip install -r \"/content/drive/My Drive/Knives/requirements.txt\""
      ],
      "metadata": {
        "colab": {
          "base_uri": "https://localhost:8080/",
          "height": 1000
        },
        "id": "5klQkFry95wQ",
        "outputId": "fe1dc735-212b-4046-c332-0c722b9f135e"
      },
      "execution_count": null,
      "outputs": [
        {
          "output_type": "stream",
          "name": "stdout",
          "text": [
            "Collecting numpy==1.21.5 (from -r /content/drive/My Drive/Knives/requirements.txt (line 1))\n",
            "  Downloading numpy-1.21.5-cp310-cp310-manylinux_2_17_x86_64.manylinux2014_x86_64.whl (15.9 MB)\n",
            "\u001b[2K     \u001b[90m━━━━━━━━━━━━━━━━━━━━━━━━━━━━━━━━━━━━━━━━\u001b[0m \u001b[32m15.9/15.9 MB\u001b[0m \u001b[31m56.4 MB/s\u001b[0m eta \u001b[36m0:00:00\u001b[0m\n",
            "\u001b[?25hCollecting opencv_python_headless==4.7.0.72 (from -r /content/drive/My Drive/Knives/requirements.txt (line 2))\n",
            "  Downloading opencv_python_headless-4.7.0.72-cp37-abi3-manylinux_2_17_x86_64.manylinux2014_x86_64.whl (49.2 MB)\n",
            "\u001b[2K     \u001b[90m━━━━━━━━━━━━━━━━━━━━━━━━━━━━━━━━━━━━━━━━\u001b[0m \u001b[32m49.2/49.2 MB\u001b[0m \u001b[31m15.5 MB/s\u001b[0m eta \u001b[36m0:00:00\u001b[0m\n",
            "\u001b[?25hCollecting pandas==1.4.4 (from -r /content/drive/My Drive/Knives/requirements.txt (line 3))\n",
            "  Downloading pandas-1.4.4-cp310-cp310-manylinux_2_17_x86_64.manylinux2014_x86_64.whl (11.6 MB)\n",
            "\u001b[2K     \u001b[90m━━━━━━━━━━━━━━━━━━━━━━━━━━━━━━━━━━━━━━━━\u001b[0m \u001b[32m11.6/11.6 MB\u001b[0m \u001b[31m81.6 MB/s\u001b[0m eta \u001b[36m0:00:00\u001b[0m\n",
            "\u001b[?25hCollecting Pillow==10.0.1 (from -r /content/drive/My Drive/Knives/requirements.txt (line 4))\n",
            "  Downloading Pillow-10.0.1-cp310-cp310-manylinux_2_28_x86_64.whl (3.6 MB)\n",
            "\u001b[2K     \u001b[90m━━━━━━━━━━━━━━━━━━━━━━━━━━━━━━━━━━━━━━━━\u001b[0m \u001b[32m3.6/3.6 MB\u001b[0m \u001b[31m92.5 MB/s\u001b[0m eta \u001b[36m0:00:00\u001b[0m\n",
            "\u001b[?25hCollecting scikit_learn==1.0.2 (from -r /content/drive/My Drive/Knives/requirements.txt (line 5))\n",
            "  Downloading scikit_learn-1.0.2-cp310-cp310-manylinux_2_17_x86_64.manylinux2014_x86_64.whl (26.5 MB)\n",
            "\u001b[2K     \u001b[90m━━━━━━━━━━━━━━━━━━━━━━━━━━━━━━━━━━━━━━━━\u001b[0m \u001b[32m26.5/26.5 MB\u001b[0m \u001b[31m50.6 MB/s\u001b[0m eta \u001b[36m0:00:00\u001b[0m\n",
            "\u001b[?25hCollecting timm==0.6.12 (from -r /content/drive/My Drive/Knives/requirements.txt (line 6))\n",
            "  Downloading timm-0.6.12-py3-none-any.whl (549 kB)\n",
            "\u001b[2K     \u001b[90m━━━━━━━━━━━━━━━━━━━━━━━━━━━━━━━━━━━━━━━━\u001b[0m \u001b[32m549.1/549.1 kB\u001b[0m \u001b[31m48.7 MB/s\u001b[0m eta \u001b[36m0:00:00\u001b[0m\n",
            "\u001b[?25hCollecting torch==1.12.1 (from -r /content/drive/My Drive/Knives/requirements.txt (line 7))\n",
            "  Downloading torch-1.12.1-cp310-cp310-manylinux1_x86_64.whl (776.3 MB)\n",
            "\u001b[2K     \u001b[90m━━━━━━━━━━━━━━━━━━━━━━━━━━━━━━━━━━━━━━━━\u001b[0m \u001b[32m776.3/776.3 MB\u001b[0m \u001b[31m2.0 MB/s\u001b[0m eta \u001b[36m0:00:00\u001b[0m\n",
            "\u001b[?25hCollecting torchvision==0.13.1 (from -r /content/drive/My Drive/Knives/requirements.txt (line 8))\n",
            "  Downloading torchvision-0.13.1-cp310-cp310-manylinux1_x86_64.whl (19.1 MB)\n",
            "\u001b[2K     \u001b[90m━━━━━━━━━━━━━━━━━━━━━━━━━━━━━━━━━━━━━━━━\u001b[0m \u001b[32m19.1/19.1 MB\u001b[0m \u001b[31m66.6 MB/s\u001b[0m eta \u001b[36m0:00:00\u001b[0m\n",
            "\u001b[?25hRequirement already satisfied: python-dateutil>=2.8.1 in /usr/local/lib/python3.10/dist-packages (from pandas==1.4.4->-r /content/drive/My Drive/Knives/requirements.txt (line 3)) (2.8.2)\n",
            "Requirement already satisfied: pytz>=2020.1 in /usr/local/lib/python3.10/dist-packages (from pandas==1.4.4->-r /content/drive/My Drive/Knives/requirements.txt (line 3)) (2023.3.post1)\n",
            "Requirement already satisfied: scipy>=1.1.0 in /usr/local/lib/python3.10/dist-packages (from scikit_learn==1.0.2->-r /content/drive/My Drive/Knives/requirements.txt (line 5)) (1.11.3)\n",
            "Requirement already satisfied: joblib>=0.11 in /usr/local/lib/python3.10/dist-packages (from scikit_learn==1.0.2->-r /content/drive/My Drive/Knives/requirements.txt (line 5)) (1.3.2)\n",
            "Requirement already satisfied: threadpoolctl>=2.0.0 in /usr/local/lib/python3.10/dist-packages (from scikit_learn==1.0.2->-r /content/drive/My Drive/Knives/requirements.txt (line 5)) (3.2.0)\n",
            "Requirement already satisfied: pyyaml in /usr/local/lib/python3.10/dist-packages (from timm==0.6.12->-r /content/drive/My Drive/Knives/requirements.txt (line 6)) (6.0.1)\n",
            "Requirement already satisfied: huggingface-hub in /usr/local/lib/python3.10/dist-packages (from timm==0.6.12->-r /content/drive/My Drive/Knives/requirements.txt (line 6)) (0.19.3)\n",
            "Requirement already satisfied: typing-extensions in /usr/local/lib/python3.10/dist-packages (from torch==1.12.1->-r /content/drive/My Drive/Knives/requirements.txt (line 7)) (4.5.0)\n",
            "Requirement already satisfied: requests in /usr/local/lib/python3.10/dist-packages (from torchvision==0.13.1->-r /content/drive/My Drive/Knives/requirements.txt (line 8)) (2.31.0)\n",
            "Requirement already satisfied: six>=1.5 in /usr/local/lib/python3.10/dist-packages (from python-dateutil>=2.8.1->pandas==1.4.4->-r /content/drive/My Drive/Knives/requirements.txt (line 3)) (1.16.0)\n",
            "INFO: pip is looking at multiple versions of scipy to determine which version is compatible with other requirements. This could take a while.\n",
            "Collecting scipy>=1.1.0 (from scikit_learn==1.0.2->-r /content/drive/My Drive/Knives/requirements.txt (line 5))\n",
            "  Downloading scipy-1.11.4-cp310-cp310-manylinux_2_17_x86_64.manylinux2014_x86_64.whl (36.4 MB)\n",
            "\u001b[2K     \u001b[90m━━━━━━━━━━━━━━━━━━━━━━━━━━━━━━━━━━━━━━━━\u001b[0m \u001b[32m36.4/36.4 MB\u001b[0m \u001b[31m15.1 MB/s\u001b[0m eta \u001b[36m0:00:00\u001b[0m\n",
            "\u001b[?25h  Downloading scipy-1.11.2-cp310-cp310-manylinux_2_17_x86_64.manylinux2014_x86_64.whl (36.3 MB)\n",
            "\u001b[2K     \u001b[90m━━━━━━━━━━━━━━━━━━━━━━━━━━━━━━━━━━━━━━━━\u001b[0m \u001b[32m36.3/36.3 MB\u001b[0m \u001b[31m36.1 MB/s\u001b[0m eta \u001b[36m0:00:00\u001b[0m\n",
            "\u001b[?25h  Downloading scipy-1.11.1-cp310-cp310-manylinux_2_17_x86_64.manylinux2014_x86_64.whl (36.3 MB)\n",
            "\u001b[2K     \u001b[90m━━━━━━━━━━━━━━━━━━━━━━━━━━━━━━━━━━━━━━━━\u001b[0m \u001b[32m36.3/36.3 MB\u001b[0m \u001b[31m14.2 MB/s\u001b[0m eta \u001b[36m0:00:00\u001b[0m\n",
            "\u001b[?25h  Downloading scipy-1.10.1-cp310-cp310-manylinux_2_17_x86_64.manylinux2014_x86_64.whl (34.4 MB)\n",
            "\u001b[2K     \u001b[90m━━━━━━━━━━━━━━━━━━━━━━━━━━━━━━━━━━━━━━━━\u001b[0m \u001b[32m34.4/34.4 MB\u001b[0m \u001b[31m45.6 MB/s\u001b[0m eta \u001b[36m0:00:00\u001b[0m\n",
            "\u001b[?25hRequirement already satisfied: filelock in /usr/local/lib/python3.10/dist-packages (from huggingface-hub->timm==0.6.12->-r /content/drive/My Drive/Knives/requirements.txt (line 6)) (3.13.1)\n",
            "Requirement already satisfied: fsspec>=2023.5.0 in /usr/local/lib/python3.10/dist-packages (from huggingface-hub->timm==0.6.12->-r /content/drive/My Drive/Knives/requirements.txt (line 6)) (2023.6.0)\n",
            "Requirement already satisfied: tqdm>=4.42.1 in /usr/local/lib/python3.10/dist-packages (from huggingface-hub->timm==0.6.12->-r /content/drive/My Drive/Knives/requirements.txt (line 6)) (4.66.1)\n",
            "Requirement already satisfied: packaging>=20.9 in /usr/local/lib/python3.10/dist-packages (from huggingface-hub->timm==0.6.12->-r /content/drive/My Drive/Knives/requirements.txt (line 6)) (23.2)\n",
            "Requirement already satisfied: charset-normalizer<4,>=2 in /usr/local/lib/python3.10/dist-packages (from requests->torchvision==0.13.1->-r /content/drive/My Drive/Knives/requirements.txt (line 8)) (3.3.2)\n",
            "Requirement already satisfied: idna<4,>=2.5 in /usr/local/lib/python3.10/dist-packages (from requests->torchvision==0.13.1->-r /content/drive/My Drive/Knives/requirements.txt (line 8)) (3.4)\n",
            "Requirement already satisfied: urllib3<3,>=1.21.1 in /usr/local/lib/python3.10/dist-packages (from requests->torchvision==0.13.1->-r /content/drive/My Drive/Knives/requirements.txt (line 8)) (2.0.7)\n",
            "Requirement already satisfied: certifi>=2017.4.17 in /usr/local/lib/python3.10/dist-packages (from requests->torchvision==0.13.1->-r /content/drive/My Drive/Knives/requirements.txt (line 8)) (2023.7.22)\n",
            "Installing collected packages: torch, Pillow, numpy, torchvision, scipy, pandas, opencv_python_headless, timm, scikit_learn\n",
            "  Attempting uninstall: torch\n",
            "    Found existing installation: torch 2.1.0+cu118\n",
            "    Uninstalling torch-2.1.0+cu118:\n",
            "      Successfully uninstalled torch-2.1.0+cu118\n",
            "  Attempting uninstall: Pillow\n",
            "    Found existing installation: Pillow 9.4.0\n",
            "    Uninstalling Pillow-9.4.0:\n",
            "      Successfully uninstalled Pillow-9.4.0\n",
            "  Attempting uninstall: numpy\n",
            "    Found existing installation: numpy 1.23.5\n",
            "    Uninstalling numpy-1.23.5:\n",
            "      Successfully uninstalled numpy-1.23.5\n",
            "  Attempting uninstall: torchvision\n",
            "    Found existing installation: torchvision 0.16.0+cu118\n",
            "    Uninstalling torchvision-0.16.0+cu118:\n",
            "      Successfully uninstalled torchvision-0.16.0+cu118\n",
            "  Attempting uninstall: scipy\n",
            "    Found existing installation: scipy 1.11.3\n",
            "    Uninstalling scipy-1.11.3:\n",
            "      Successfully uninstalled scipy-1.11.3\n",
            "  Attempting uninstall: pandas\n",
            "    Found existing installation: pandas 1.5.3\n",
            "    Uninstalling pandas-1.5.3:\n",
            "      Successfully uninstalled pandas-1.5.3\n",
            "  Attempting uninstall: opencv_python_headless\n",
            "    Found existing installation: opencv-python-headless 4.8.1.78\n",
            "    Uninstalling opencv-python-headless-4.8.1.78:\n",
            "      Successfully uninstalled opencv-python-headless-4.8.1.78\n",
            "  Attempting uninstall: scikit_learn\n",
            "    Found existing installation: scikit-learn 1.2.2\n",
            "    Uninstalling scikit-learn-1.2.2:\n",
            "      Successfully uninstalled scikit-learn-1.2.2\n",
            "\u001b[31mERROR: pip's dependency resolver does not currently take into account all the packages that are installed. This behaviour is the source of the following dependency conflicts.\n",
            "lida 0.0.10 requires fastapi, which is not installed.\n",
            "lida 0.0.10 requires kaleido, which is not installed.\n",
            "lida 0.0.10 requires python-multipart, which is not installed.\n",
            "lida 0.0.10 requires uvicorn, which is not installed.\n",
            "bigframes 0.13.0 requires pandas>=1.5.0, but you have pandas 1.4.4 which is incompatible.\n",
            "bigframes 0.13.0 requires scikit-learn>=1.2.2, but you have scikit-learn 1.0.2 which is incompatible.\n",
            "flax 0.7.5 requires numpy>=1.22, but you have numpy 1.21.5 which is incompatible.\n",
            "google-colab 1.0.0 requires pandas==1.5.3, but you have pandas 1.4.4 which is incompatible.\n",
            "jax 0.4.20 requires numpy>=1.22, but you have numpy 1.21.5 which is incompatible.\n",
            "jaxlib 0.4.20+cuda11.cudnn86 requires numpy>=1.22, but you have numpy 1.21.5 which is incompatible.\n",
            "numba 0.58.1 requires numpy<1.27,>=1.22, but you have numpy 1.21.5 which is incompatible.\n",
            "plotnine 0.12.4 requires numpy>=1.23.0, but you have numpy 1.21.5 which is incompatible.\n",
            "plotnine 0.12.4 requires pandas>=1.5.0, but you have pandas 1.4.4 which is incompatible.\n",
            "tensorflow 2.14.0 requires numpy>=1.23.5, but you have numpy 1.21.5 which is incompatible.\n",
            "torchaudio 2.1.0+cu118 requires torch==2.1.0, but you have torch 1.12.1 which is incompatible.\n",
            "torchdata 0.7.0 requires torch==2.1.0, but you have torch 1.12.1 which is incompatible.\n",
            "torchtext 0.16.0 requires torch==2.1.0, but you have torch 1.12.1 which is incompatible.\u001b[0m\u001b[31m\n",
            "\u001b[0mSuccessfully installed Pillow-10.0.1 numpy-1.21.5 opencv_python_headless-4.7.0.72 pandas-1.4.4 scikit_learn-1.0.2 scipy-1.10.1 timm-0.6.12 torch-1.12.1 torchvision-0.13.1\n"
          ]
        },
        {
          "output_type": "display_data",
          "data": {
            "application/vnd.colab-display-data+json": {
              "pip_warning": {
                "packages": [
                  "PIL",
                  "numpy"
                ]
              }
            }
          },
          "metadata": {}
        }
      ]
    },
    {
      "cell_type": "code",
      "source": [
        "#Accessing Files in Colab\n",
        "!python3 \"/content/drive/My Drive/Knives/train.py\""
      ],
      "metadata": {
        "colab": {
          "base_uri": "https://localhost:8080/"
        },
        "id": "inXXBF7i34Ht",
        "outputId": "2d280f8d-dbf0-431b-f266-1d07e6fd8dda"
      },
      "execution_count": null,
      "outputs": [
        {
          "output_type": "stream",
          "name": "stdout",
          "text": [
            "\n",
            "----------------------------------------------- [START 2023-11-20 05:18:09] ---------------------------------------------------\n",
            "\n",
            "                           |----- Train -----|----- Valid----|---------|\n",
            "mode     iter     epoch    |       loss      |        mAP    | time    |\n",
            "-------------------------------------------------------------------------------------------\n",
            "Downloading: \"https://github.com/rwightman/pytorch-image-models/releases/download/v0.1-weights/tf_efficientnet_b0_aa-827b6e33.pth\" to /root/.cache/torch/hub/checkpoints/tf_efficientnet_b0_aa-827b6e33.pth\n",
            "train 601.0    0.0        |      4.092     |      0.000     |  0 hr 07 min\n",
            "val    21.0    0.0       |      4.092     |      0.331    |  0 hr 08 min\n",
            "train 601.0    1.0        |      1.519     |      0.331     |  0 hr 11 min\n",
            "val    21.0    1.0       |      1.519     |      0.559    |  0 hr 12 min\n",
            "train 601.0    2.0        |      0.489     |      0.559     |  0 hr 15 min\n",
            "val    21.0    2.0       |      0.489     |      0.638    |  0 hr 16 min\n",
            "train 601.0    3.0        |      0.196     |      0.638     |  0 hr 19 min\n",
            "val    21.0    3.0       |      0.196     |      0.635    |  0 hr 20 min\n",
            "train 601.0    4.0        |      0.100     |      0.635     |  0 hr 23 min\n",
            "val    21.0    4.0       |      0.100     |      0.647    |  0 hr 24 min\n",
            "train 601.0    5.0        |      0.061     |      0.647     |  0 hr 27 min\n",
            "val    21.0    5.0       |      0.061     |      0.650    |  0 hr 28 min\n",
            "train 601.0    6.0        |      0.041     |      0.650     |  0 hr 31 min\n",
            "val    21.0    6.0       |      0.041     |      0.667    |  0 hr 32 min\n",
            "train 601.0    7.0        |      0.029     |      0.667     |  0 hr 35 min\n",
            "val    21.0    7.0       |      0.029     |      0.663    |  0 hr 36 min\n",
            "train 601.0    8.0        |      0.023     |      0.663     |  0 hr 39 min\n",
            "val    21.0    8.0       |      0.023     |      0.683    |  0 hr 40 min\n",
            "train 601.0    9.0        |      0.019     |      0.683     |  0 hr 43 min\n",
            "val    21.0    9.0       |      0.019     |      0.684    |  0 hr 44 min\n",
            "train 601.0   10.0        |      0.013     |      0.684     |  0 hr 47 min\n",
            "val    21.0   10.0       |      0.013     |      0.674    |  0 hr 48 min\n",
            "train 601.0   11.0        |      0.011     |      0.674     |  0 hr 51 min\n",
            "val    21.0   11.0       |      0.011     |      0.672    |  0 hr 52 min\n",
            "train 601.0   12.0        |      0.009     |      0.672     |  0 hr 55 min\n",
            "val    21.0   12.0       |      0.009     |      0.675    |  0 hr 56 min\n",
            "train 601.0   13.0        |      0.008     |      0.675     |  0 hr 59 min\n",
            "val    21.0   13.0       |      0.008     |      0.678    |  1 hr 00 min\n",
            "train 601.0   14.0        |      0.008     |      0.678     |  1 hr 03 min\n",
            "val    21.0   14.0       |      0.008     |      0.679    |  1 hr 04 min\n",
            "train 601.0   15.0        |      0.007     |      0.679     |  1 hr 07 min\n",
            "val    21.0   15.0       |      0.007     |      0.678    |  1 hr 08 min\n",
            "train 601.0   16.0        |      0.007     |      0.678     |  1 hr 11 min\n",
            "val    21.0   16.0       |      0.007     |      0.680    |  1 hr 12 min\n",
            "train 601.0   17.0        |      0.005     |      0.680     |  1 hr 14 min\n",
            "val    21.0   17.0       |      0.005     |      0.671    |  1 hr 16 min\n",
            "train 601.0   18.0        |      0.006     |      0.671     |  1 hr 18 min\n",
            "val    21.0   18.0       |      0.006     |      0.700    |  1 hr 20 min\n",
            "train 601.0   19.0        |      0.006     |      0.700     |  1 hr 22 min\n",
            "val    21.0   19.0       |      0.006     |      0.694    |  1 hr 24 min\n",
            "val    21.0   19.0       |      0.006     |      0.694    |  1 hr 24 min"
          ]
        }
      ]
    },
    {
      "cell_type": "code",
      "source": [
        "!python3 \"/content/drive/My Drive/Knives/train.py\""
      ],
      "metadata": {
        "id": "APKkYyhEFPEs"
      },
      "execution_count": null,
      "outputs": []
    }
  ]
}